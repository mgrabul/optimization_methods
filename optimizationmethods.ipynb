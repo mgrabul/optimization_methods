{
  "cells": [
    {
      "cell_type": "markdown",
      "metadata": {
        "colab_type": "text",
        "id": "view-in-github"
      },
      "source": [
        "<a href=\"https://colab.research.google.com/github/mgrabul/optimization_methods/blob/main/optimizationmethods.ipynb\" target=\"_parent\"><img src=\"https://colab.research.google.com/assets/colab-badge.svg\" alt=\"Open In Colab\"/></a>"
      ]
    },
    {
      "cell_type": "markdown",
      "metadata": {
        "id": "VWTpkWWFkFqQ"
      },
      "source": [
        "## Python Introduction\n",
        "\n",
        "Python is a general-purpose high-level programming language. It was invented in the late '80s, and its current major version is 3. Important features and characteristics of Python include:\n",
        "\n",
        "* Object-oriented\n",
        "* Dynamically typed\n",
        "* Open source\n",
        "* High-level\n",
        "* Interpreted\n",
        "* First-class functions\n",
        "* Higher-order functions\n",
        "\n",
        "Python code is interpreted, meaning it is transformed into bytecode one line at a time during execution. There is no separate compile phase, so no compile time is needed. Popular uses of Python include scripting and automation, microservices, statistics, and machine learning.\n",
        "\n",
        "Due to its open-source nature and well-developed libraries for computation and visualization, such as NumPy and Matplotlib, Python has become quite popular in math-related fields, especially in universities and academia. It has increasingly replaced previously well-established software like \"Wolfram Mathematica\" and \"MATLAB.\""
      ]
    },
    {
      "cell_type": "markdown",
      "metadata": {
        "id": "yTLc8Lu_OWx1"
      },
      "source": [
        "### Basic Python commands"
      ]
    },
    {
      "cell_type": "markdown",
      "metadata": {
        "id": "A5pQbXdCndbX"
      },
      "source": [
        "Traditionally, every tutorial for a programming language starts with an introduction on how to display output to the screen or use the print command.\n",
        "Printing is done with the function `print`.\n",
        "\n",
        "**Example**: Print \"Hello, World!\""
      ]
    },
    {
      "cell_type": "code",
      "execution_count": 2,
      "metadata": {
        "colab": {
          "base_uri": "https://localhost:8080/"
        },
        "id": "GFcTNYYWn_CM",
        "outputId": "df1d97be-56e3-46ba-c853-cf43d2a774a0"
      },
      "outputs": [
        {
          "name": "stdout",
          "output_type": "stream",
          "text": [
            "Hello World\n"
          ]
        }
      ],
      "source": [
        "# Print a string\n",
        "print(\"Hello World\")"
      ]
    },
    {
      "cell_type": "markdown",
      "metadata": {
        "id": "dWJbmDpknRSp"
      },
      "source": [
        "While printing, strings and numbers can be concatenated using the , sign.\n",
        "\n",
        "**Example**. Concatenate the words \"Hello\" and \"World\" and print them."
      ]
    },
    {
      "cell_type": "code",
      "execution_count": 3,
      "metadata": {
        "colab": {
          "base_uri": "https://localhost:8080/"
        },
        "id": "D2NmjOlfn87G",
        "outputId": "cc9d6706-fd0c-4007-9323-b60bf391ebdb"
      },
      "outputs": [
        {
          "name": "stdout",
          "output_type": "stream",
          "text": [
            "Concatenating Hello and World with +: Hello World\n",
            "Concatenating Hello and World with +:  Hello  World\n"
          ]
        }
      ],
      "source": [
        "# Concatenating and printing strings\n",
        "print(\"Concatenating Hello and World with +: \"+\"Hello\"+\" World\")\n",
        "print(\"Concatenating Hello and World with +: \",\"Hello\",\" World\")"
      ]
    },
    {
      "cell_type": "markdown",
      "metadata": {
        "id": "ifM5MxRYmZBL"
      },
      "source": [
        "### Declaring variables in Python"
      ]
    },
    {
      "cell_type": "markdown",
      "metadata": {
        "id": "meEEupGDkQxm"
      },
      "source": [
        "\n",
        "Python is a dynamic language, and memory is assigned at execution time. This means that variables don't need to be associated with a type at the time of declaration; they receive their type at the time of initialization. As a result, only initialization is required. Additionally, because Python is dynamic, different types of data can be assigned to the same variable, although this is generally not considered good practice.\n",
        "\n",
        "In Python, the symbol `:` can be used to provide hints on the variable type. These hints are used by development environments to provide information to the developer. Using type hints improves code quality and makes the coding process easier.\n",
        "\n",
        "\n",
        "**Example**. Assign 1 and 2 to integer variables `x`, `y` and print their values"
      ]
    },
    {
      "cell_type": "code",
      "execution_count": 4,
      "metadata": {
        "colab": {
          "base_uri": "https://localhost:8080/"
        },
        "id": "a4CIXa7okQKq",
        "outputId": "b9c3713e-25e2-430f-b959-b06608b77aae"
      },
      "outputs": [
        {
          "name": "stdout",
          "output_type": "stream",
          "text": [
            "x is:\n",
            "1\n",
            "y is:\n",
            "2\n"
          ]
        }
      ],
      "source": [
        "x = 1\n",
        "# int is a hint and not required in the following expression\n",
        "y:int = 2\n",
        "\n",
        "print(\"x is:\")\n",
        "print(x)\n",
        "print(\"y is:\")\n",
        "print(y)\n"
      ]
    },
    {
      "cell_type": "markdown",
      "metadata": {
        "id": "5IdgEKufpPLS"
      },
      "source": [
        "Almost anything can be printed using concatenation, but Python offers a more elegant way of formatting. Simple formatting is done by using the letter `f` before the string. Instead of concatenating, variables can be inserted directly into the string using `{}`.\n",
        "\n",
        "**Example**: Using string formatting to print `x=1, y=2` where `x` and `y` are integer variables."
      ]
    },
    {
      "cell_type": "code",
      "execution_count": 5,
      "metadata": {
        "colab": {
          "base_uri": "https://localhost:8080/"
        },
        "id": "GUlxe4nrqa5f",
        "outputId": "d2658c01-1b87-4f54-83d0-9c47bb28f9dc"
      },
      "outputs": [
        {
          "name": "stdout",
          "output_type": "stream",
          "text": [
            "x=1, y=2\n"
          ]
        }
      ],
      "source": [
        "x = 1\n",
        "# int is a hint and not required in the following expression\n",
        "y:int = 2\n",
        "\n",
        "print(f\"x={x}, y={y}\")"
      ]
    },
    {
      "cell_type": "markdown",
      "metadata": {
        "id": "X4e_4gUqqq0i"
      },
      "source": [
        "Similarly, a string can be formatted into two lines using \\n as a line break.\n",
        "\n",
        "\n",
        "**Example**. Print one string in two lines using the \\n line brake."
      ]
    },
    {
      "cell_type": "code",
      "execution_count": 6,
      "metadata": {
        "colab": {
          "base_uri": "https://localhost:8080/"
        },
        "id": "ObQL4jVWrHe_",
        "outputId": "8f19d469-bb0f-4dc6-bea5-adbb88d2f2c1"
      },
      "outputs": [
        {
          "name": "stdout",
          "output_type": "stream",
          "text": [
            "To print in a new line use \\n \n",
            " The following text will be printed in a new line:\n",
            "'text in a new line'\n"
          ]
        }
      ],
      "source": [
        "print(f\"To print in a new line use \\\\n \\n The following text will be printed in a new line:\\n'text in a new line'\")"
      ]
    },
    {
      "cell_type": "markdown",
      "metadata": {
        "id": "sH8LUH2PsHzT"
      },
      "source": [
        "### Basic data types in Python\n",
        "\n",
        "\n",
        "* Text Type:  str\n",
        "* Numeric Types:  int, float, complex\n",
        "* Sequence Types: list, tuple, range\n",
        "* Mapping Type: dict\n",
        "* Set Types:  set, frozenset\n",
        "* Boolean Type: bool\n",
        "* Binary Types: bytes, bytearray, memoryview\n",
        "* None Type:  NoneType\n",
        "\n",
        "\n",
        "**Example**. Declare the most common data types in Python."
      ]
    },
    {
      "cell_type": "code",
      "execution_count": 7,
      "metadata": {
        "id": "H96p9tkCuWdh"
      },
      "outputs": [],
      "source": [
        "# Strings, datatypes that hold text.\n",
        "x1: str = \"Hello World\"\n",
        "\n",
        "# Integers, positive and negative whole numbers.\n",
        "x2: int = 20\n",
        "\n",
        "# Floats, datatypes that are generally used to represent real numbers.\n",
        "# Mathematically speaking, they are real numbers with a precision of usually 16-17 digits.\n",
        "x3: float = 20.5\n",
        "\n",
        "# Complex numbers, used to represent numbers with a real and an imaginary part.\n",
        "# They have precision similar to floats.\n",
        "x4: complex = 1j\n",
        "\n",
        "# List or array, collections of indexed elements. The elements don't have to be unique.\n",
        "x5: list = [\"apple\", \"banana\", \"cherry\"]\n",
        "# The indexing starts from 0. e.g., access the second element of a list\n",
        "x5_2 = x5[1]\n",
        "\n",
        "# Tuple, collections of indexed elements similar to lists but are immutable once\n",
        "# created. This type of variable is not used in this book. It is used to\n",
        "# represent static data that is stored in memory.\n",
        "x6: tuple = (\"apple\", \"banana\", \"cherry\")\n",
        "\n",
        "# Range, immutable sequences of numbers, usually used for looping or iterating\n",
        "# in arrays or other data structures.\n",
        "x7: range = range(6)\n",
        "\n",
        "# Dictionary, key-value pair data structure where keys are unique. Usually used\n",
        "# when building JSON objects or storing data. This variable is not used in this\n",
        "# book.\n",
        "x8: dict = {\"name\": \"John\", \"age\": 36}\n",
        "\n",
        "# Access an element in the dictionary\n",
        "x8_name = x8[\"name\"]\n",
        "\n",
        "# Set, unordered collections of unique elements. Not used in this book. Usually\n",
        "# used to store or keep track of unique values.\n",
        "x9: set = {\"apple\", \"banana\", \"cherry\"}\n",
        "\n",
        "# Frozenset, unordered collections of unique elements. Unlike sets, they are\n",
        "# immutable. Not used in this book. Could be used to store certain static\n",
        "# parameters inside a client application or server from initialization until\n",
        "# the end of the application.\n",
        "x10: frozenset = frozenset({\"apple\", \"banana\", \"cherry\"})\n",
        "\n",
        "# Boolean, represents True or False values. Mostly used for conditional statements.\n",
        "x11: bool = True\n",
        "\n",
        "# Bytes, sequences of bytes. Once a bytes object is created, its elements cannot\n",
        "# be changed. Used when dealing with communication with embedded devices like\n",
        "# electronic cards. This variable is not of interest for the purposes/range of\n",
        "# this book.\n",
        "x12: bytes = b\"Hello\"\n",
        "\n",
        "# Bytearray, similar to bytes but mutable, meaning elements can be changed.\n",
        "# This variable is not of interest for the purposes/range of this book.\n",
        "x13: bytearray = bytearray(5)\n",
        "\n",
        "# None, used to represent the absence of a value.\n",
        "x14: None = None"
      ]
    },
    {
      "cell_type": "markdown",
      "metadata": {
        "id": "DbxYhim5mTjd"
      },
      "source": [
        "***When writing high-quality code, it is essential to select variable types that satisfy the minimal requirements for the use case. This seminar work has an educational purpose and balances efficient code practices with clarity. For this reason, not necessarily the most effective but the most common and recognizable data types are used.***"
      ]
    },
    {
      "cell_type": "markdown",
      "metadata": {
        "id": "ZlxaCw3HtEaH"
      },
      "source": [
        "### Basic arithmetic operations in Python\n",
        "\n",
        "\n",
        "Python provides several built-in operators for basic arithmetic operations. These are the most common ones:\n",
        "* Addition (+): Adds two numbers together.\n",
        "* Subtraction (-): Subtracts one number from another.\n",
        "* Multiplication (*): Multiplies two numbers.\n",
        "* Division (/): Divides one number by another (returns a float).\n",
        "* Integer Division (//): Divides one number by another and returns the integer part of the result.\n",
        "* Modulo (%), returns the remainder when one number is divided by another\n",
        "* Exponentiation (**): Raises one number to the power of another.\n",
        "\n",
        "\n",
        "**Example**. Demonstrate the usage the most common built-in operators in Python.\n"
      ]
    },
    {
      "cell_type": "code",
      "execution_count": 8,
      "metadata": {
        "colab": {
          "base_uri": "https://localhost:8080/"
        },
        "id": "51a0LHa-uYpc",
        "outputId": "8f8ef259-cb70-4e92-ece9-5b1f0655b8bf"
      },
      "outputs": [
        {
          "name": "stdout",
          "output_type": "stream",
          "text": [
            "Addition: 8\n",
            "Subtraction: 2\n",
            "Multiplication: 15\n",
            "Division: 1.6666666666666667\n",
            "Integer Division: 1\n",
            "Modulo: 2\n",
            "Exponentiation: 8\n"
          ]
        }
      ],
      "source": [
        "# Addition\n",
        "result = 5 + 3\n",
        "print(\"Addition:\", result)\n",
        "# Subtraction\n",
        "result = 5 - 3\n",
        "print(\"Subtraction:\", result)\n",
        "# Multiplication\n",
        "result = 5 * 3\n",
        "print(\"Multiplication:\", result)\n",
        "# Division\n",
        "result = 5 / 3\n",
        "print(\"Division:\", result)\n",
        "# Integer Division\n",
        "result = 5 // 3\n",
        "print(\"Integer Division:\", result)\n",
        "# Modulo\n",
        "result = 5 % 3\n",
        "print(\"Modulo:\", result)\n",
        "# Exponentiation\n",
        "result = 2 ** 3\n",
        "print(\"Exponentiation:\", result)"
      ]
    },
    {
      "cell_type": "markdown",
      "metadata": {
        "id": "ltcveziju0bN"
      },
      "source": [
        "### If - else conditions in Python\n",
        "\n",
        "The general form of an `if-else` condition in Python is:\n",
        "\n",
        "```\n",
        "if <bool>:\n",
        " <code block>\n",
        "elif <bool>:\n",
        " <code block>\n",
        " .....\n",
        "else:\n",
        " <code block>\n",
        "\n",
        "```\n",
        "\n",
        "As shown, python uses the symbol `:` followed by new line with indentation to indicate a start of a new block.\n",
        "\n",
        "\n",
        "**Example**. Given a number `i`, print one of the following \"`i` is smaller or equal to 10\", \"`i` is smaller than 20\", \"`i` is equal to 20\", \"`i` is bigger than 20\" depending on `i`."
      ]
    },
    {
      "cell_type": "code",
      "execution_count": 9,
      "metadata": {
        "colab": {
          "base_uri": "https://localhost:8080/"
        },
        "id": "J8HbhoCdwO4t",
        "outputId": "0d204756-87ec-49f3-fa6a-5e9aaa3c27e0"
      },
      "outputs": [
        {
          "name": "stdout",
          "output_type": "stream",
          "text": [
            "i is smaller than 20\n"
          ]
        }
      ],
      "source": [
        "i_:int = 12\n",
        "\n",
        "if i_<=10:\n",
        "  print(\"i is smaller or equal to 10\")\n",
        "elif i_<20:\n",
        " print(\"i is smaller than 20\")\n",
        "elif i==20:\n",
        " print(\"i is equal to 20\")\n",
        "else:\n",
        " print(\"i is bigger or equal than 20\")"
      ]
    },
    {
      "cell_type": "markdown",
      "metadata": {
        "id": "QT5hAKl8bLoz"
      },
      "source": [
        "### Loops and iterations in Python\n",
        "\n",
        "\n",
        "As in other languages, commonly used loops in Python are `while` and `for` loops. Additionally, Python supports functional programming, and it is not uncommon for functions to be used instead of declarative loops for interactions, especially when working with data collections."
      ]
    },
    {
      "cell_type": "markdown",
      "metadata": {
        "id": "0Ux5MNDCb59I"
      },
      "source": [
        "The while loop syntax form in python is the following:\n",
        "\n",
        "```\n",
        "while <boolean>:\n",
        "    <code block>\n",
        "```\n",
        "**Example**. Using while loop print the elements of a list, `l = {1,2,3,\"this is the last element of the list\"}`\n"
      ]
    },
    {
      "cell_type": "code",
      "execution_count": 10,
      "metadata": {
        "colab": {
          "base_uri": "https://localhost:8080/"
        },
        "id": "VM3WqV5ccuoW",
        "outputId": "4e843d58-8044-426c-87ed-d50f485e4509"
      },
      "outputs": [
        {
          "name": "stdout",
          "output_type": "stream",
          "text": [
            "1\n",
            "2\n",
            "3\n",
            "this is the last element of the list\n"
          ]
        }
      ],
      "source": [
        "l = [1,2,3,\"this is the last element of the list\"]\n",
        "\n",
        "index_l = 0\n",
        "while(index_l<4):\n",
        "  print(l[index_l])\n",
        "  index_l = index_l + 1"
      ]
    },
    {
      "cell_type": "markdown",
      "metadata": {
        "id": "9yPTSwF_eF9y"
      },
      "source": [
        "The general form of a `for` loop in Python is:\n",
        "\n",
        "```\n",
        "for variable in sequence:\n",
        "    <code block>\n",
        "```    \n",
        "\n",
        "**Example**. Using for loop, print the elements of the list `l = {1,2,3,\"this is the last element of the list\"}`"
      ]
    },
    {
      "cell_type": "code",
      "execution_count": 11,
      "metadata": {
        "colab": {
          "base_uri": "https://localhost:8080/"
        },
        "id": "FprlB9L1eoUp",
        "outputId": "6e0d452a-4e3f-47b1-842c-403e246839fa"
      },
      "outputs": [
        {
          "name": "stdout",
          "output_type": "stream",
          "text": [
            "1\n",
            "2\n",
            "3\n",
            "this is the last element of the list\n"
          ]
        }
      ],
      "source": [
        "l = [1,2,3,\"this is the last element of the list\"]\n",
        "\n",
        "for element in l:\n",
        "    print(element)"
      ]
    },
    {
      "cell_type": "markdown",
      "metadata": {
        "id": "ARs9Jq3wevU1"
      },
      "source": [
        "\n",
        "Python supports functional programming, so it is becoming increasingly popular to use functions instead of loops for iterating over data structures. Built-in functions like `map` and `reduce` are used to apply a function to the elements of a collection, such as a list or set. This style of writing code is called declarative. In contrast, imperative programming uses loops like `while` or `for` to iterate over data structures. More detailed examples will be shown in the functions section of this seminar work.\n",
        "\n",
        "**Example**. Using the map function print the elements of a list `l = [1,2,3,\"this is the last element of the list\"]` in Python"
      ]
    },
    {
      "cell_type": "code",
      "execution_count": 12,
      "metadata": {
        "colab": {
          "base_uri": "https://localhost:8080/"
        },
        "id": "OhW1Q9hMfl9J",
        "outputId": "a574be1e-aa51-45b8-e0ab-d8e9d598c9d5"
      },
      "outputs": [
        {
          "name": "stdout",
          "output_type": "stream",
          "text": [
            "1\n",
            "2\n",
            "3\n",
            "this is the last element of the list\n"
          ]
        },
        {
          "data": {
            "text/plain": [
              "[None, None, None, None]"
            ]
          },
          "execution_count": 12,
          "metadata": {},
          "output_type": "execute_result"
        }
      ],
      "source": [
        "l = [1, 2, 3, \"this is the last element of the list\"]\n",
        "\n",
        "list(map(lambda x: print(x), l))"
      ]
    },
    {
      "cell_type": "markdown",
      "metadata": {
        "id": "2XAvgY09g-Yg"
      },
      "source": [
        "### Functions in python\n",
        "\n",
        "Depending on how they are defined, there are generally two types of functions in Python: lambda functions and standard functions. Standard functions, or just functions, are traditional and quite flexible, but they require more code to be defined. Lambda functions, on the other hand, require less code but are not as flexible, as they are limited to single-line expressions.\n",
        "\n",
        "This seminar work will not use lambda functions, as they can be completely replaced by standard functions. In general, lambda functions are used with predefined functions like `map` or `reduce` when iterating over data structures. They are often inlined with these functions, which also contributes to code readability.\n",
        "\n",
        "Standard function\n",
        "```\n",
        "def function_name(parameters):\n",
        "   <Code block>\n",
        "    <Command 1>\n",
        "    <Command 2>\n",
        "   ...\n",
        "   </Code block>\n",
        "   <!-- optional return -->\n",
        "   return <value>\n",
        "```\n",
        "\n",
        "Lambda function\n",
        "```\n",
        "lambda parameters: expression\n",
        "```\n",
        "\n",
        "**Example**. Using a standard and a lambda function calculate the sum of two numbers and print the output.\n"
      ]
    },
    {
      "cell_type": "code",
      "execution_count": 13,
      "metadata": {
        "colab": {
          "base_uri": "https://localhost:8080/"
        },
        "id": "voLuNHZrmcY7",
        "outputId": "095e9c1a-41ea-4694-f155-99e046b8d478"
      },
      "outputs": [
        {
          "name": "stdout",
          "output_type": "stream",
          "text": [
            "Using Standard Function: 8\n",
            "Using Lambda Function: 8\n"
          ]
        }
      ],
      "source": [
        "def sum_standard_function(x, y):\n",
        "    result = x + y\n",
        "    return result\n",
        "# Call the standard function and print the output\n",
        "sum_standard = sum_standard_function(3, 5)\n",
        "print(f\"Using Standard Function: {sum_standard}\")\n",
        "\n",
        "sum_lambda_function = lambda x, y: x + y\n",
        "# Call the lambda function and print the output\n",
        "\n",
        "sum_lambda = sum_lambda_function(3, 5)\n",
        "print(f\"Using Lambda Function: {sum_lambda}\")"
      ]
    },
    {
      "cell_type": "markdown",
      "metadata": {
        "id": "MeCSuOSfoIJY"
      },
      "source": [
        "**Functions are \"first-class citizens\" in Python**, meaning they are treated as variables. A function can be assigned to a variable, passed to another function as a parameter, or returned from a function. Treating functions as variables is part of the [functional programming paradigm](https://en.wikipedia.org/wiki/Functional_programming). These features are supported out of the box in Python, and as a result, higher-order functions can be created quite easily. In the following sections related to optimization, these Python features and other elements of the functional programming paradigm will be used extensively.\n",
        "\n",
        "**Example**: Create a function that numerically calculates the derivative of a function $f(x)$ in $x$,\n",
        "\n",
        "$f'(x) = \\lim_{{\\Delta x \\to 0}} \\frac{{f(x + \\Delta x) - f(x)}}{\\Delta x}$,\n",
        "\n",
        "meaning instead of calculating the limit when $\\Delta x$ approaching 0, use an extremely small interval $(x-\\Delta x, x + \\Delta x)$ around $x$ to approximate the derivative, where $\\Delta x$ is very small ( e.g. $\\Delta x =  10^{-5}$)."
      ]
    },
    {
      "cell_type": "code",
      "execution_count": 14,
      "metadata": {
        "colab": {
          "base_uri": "https://localhost:8080/"
        },
        "id": "bBCLXu0Pssfk",
        "outputId": "43c7b614-1b46-4f9e-ea63-5ab598ef4836"
      },
      "outputs": [
        {
          "name": "stdout",
          "output_type": "stream",
          "text": [
            "The approximation of the derivate of a function x^2 in x = 3 is 6.000000000039306\n"
          ]
        }
      ],
      "source": [
        "def f(x_in:float):\n",
        "  return x_in**2\n",
        "\n",
        "def derivative_of(function_in):\n",
        "  def numerical_derivative(x_in):\n",
        "    _delta_x = 1e-5\n",
        "    _derivate_f = (function_in(x_in + _delta_x) - function_in(x_in - _delta_x))/(2*_delta_x)\n",
        "    return _derivate_f\n",
        "  return numerical_derivative\n",
        "\n",
        "derivat_f = derivative_of(f)\n",
        "\n",
        "print(f\"The approximation of the derivate of a function x^2 in x = 3 is {derivat_f(3)}\")"
      ]
    },
    {
      "cell_type": "markdown",
      "metadata": {
        "id": "WsvaBDoA0Pwp"
      },
      "source": [
        "#### Libraries and modules\n",
        "\n",
        "Basic arithmetic operations with functions in Python include finding the absolute value using `abs` and calculating the square root using `math.sqrt`. The `abs` function is part of Python's standard library, while `sqrt` is part of the math library, which is commonly used but not included in the base library. Libraries are collections of modules, and modules are collections of functions and classes that are used for similar purposes. The math library needs to be imported before it is used. To do so, write `import math` before using it. Once imported, the functions and classes inside the library can be used by accessing them with dot notation. For example, `math.sqrt(9)` will return 3 as it calculates the square root of nine.\n",
        "\n",
        "Modules, on the other hand, are files containing Python code within a library. For example, when using `import matplotlib.pyplot`, `pyplot` is a module in the `matplotlib` library that is used for plotting data. Modules and libraries can be imported with aliases instead of their full names. To define an alias for the module `matplotlib.pyplot`, the following code line can be used: `import matplotlib.pyplot as plt`.\n",
        "\n",
        "*As with every programming language, the necessary libraries need to be imported and be part of the dependencies. The advantage of using Google Colab is that it handles the dependencies itself, so only an import statement for the required library is necessary.*\n",
        "\n",
        "\n",
        "**Example**: Given a number, calculate the square root of the absolute value of that number."
      ]
    },
    {
      "cell_type": "code",
      "execution_count": 15,
      "metadata": {
        "colab": {
          "base_uri": "https://localhost:8080/"
        },
        "id": "4nMMMfYG1fUW",
        "outputId": "8d27c578-230b-4f5e-b9cd-2563643672eb"
      },
      "outputs": [
        {
          "name": "stdout",
          "output_type": "stream",
          "text": [
            "The square root of the absolute value of -9 is 3.0\n"
          ]
        }
      ],
      "source": [
        "import math\n",
        "\n",
        "def calculate_sqrt_abs(num_in):\n",
        "    abs_num = abs(num_in)\n",
        "    sqrt_abs_num = math.sqrt(abs_num)\n",
        "    return sqrt_abs_num\n",
        "\n",
        "number = -9\n",
        "result = calculate_sqrt_abs(number)\n",
        "print(f\"The square root of the absolute value of {number} is {result}\")"
      ]
    },
    {
      "cell_type": "markdown",
      "metadata": {
        "id": "1bynUSGQOHID"
      },
      "source": [
        "### Logical Operators\n",
        "\n",
        "Python uses `True` and `False` as boolean values.\n",
        "\n",
        "The most popular logical operators are:\n",
        "* `and`\n",
        "* `or`\n",
        "* `not`\n",
        "\n",
        "Comparing values is done with:\n",
        "* `<`, `<=`\n",
        "* `>`, `>=`\n",
        "* `==`\n",
        "\n",
        "**Examples**:\n",
        "\n",
        "1. Given two numbers `a` and `b`, write a function that will return the larger number.\n",
        "2. Given three numbers `a`, `b`, and `c`, write a function that will return the largest number.\n",
        "3. Given two numbers `a` and `b`, write a function that returns `True` if `a > b`.\n",
        "4. Write a function that, given a number `n`, prints the first `n` numbers.\n"
      ]
    },
    {
      "cell_type": "code",
      "execution_count": 16,
      "metadata": {
        "colab": {
          "base_uri": "https://localhost:8080/"
        },
        "id": "3muoet3NWNFf",
        "outputId": "10acabc4-b75f-4208-91fb-bdb98300afbd"
      },
      "outputs": [
        {
          "name": "stdout",
          "output_type": "stream",
          "text": [
            "Max of 10 and 20: 20\n",
            "Max of 50, 40, and 30: 50\n",
            "First 10 positive integers:\n",
            "1\n",
            "2\n",
            "3\n",
            "4\n",
            "5\n",
            "6\n",
            "7\n",
            "8\n",
            "9\n",
            "10\n"
          ]
        }
      ],
      "source": [
        "# Example 1\n",
        "def max_of_two(a, b):\n",
        "    return a if a > b else b\n",
        "print(\"Max of 10 and 20:\", max_of_two(10, 20))  # Output: 20\n",
        "\n",
        "# Example 2\n",
        "def max_of_three(a, b, c):\n",
        "    pom = a\n",
        "    if(b>a):\n",
        "      pom = b\n",
        "    if(c>pom):\n",
        "      pom = c\n",
        "    return pom\n",
        "print(\"Max of 50, 40, and 30:\", max_of_three(50, 40, 30))  # Output: 50\n",
        "\n",
        "# Example 3\n",
        "def is_a_greater_than_b(a, b):\n",
        "    return a > b\n",
        "# Example 4\n",
        "def print_first_n(n:int):\n",
        "  print(f\"First {n} positive integers:\")\n",
        "  i=1\n",
        "  while(not is_a_greater_than_b(i,n)):\n",
        "    print(i)\n",
        "    i = i+1\n",
        "\n",
        "print_first_n(10)"
      ]
    },
    {
      "cell_type": "markdown",
      "metadata": {
        "id": "JA4JdP0dhQRl"
      },
      "source": [
        "### Plotting a Function\n",
        "\n",
        "One of the reasons why Python is popular in mathematical-related areas is because of the Matplotlib library. This library is used to draw or plot on a coordinate system. It can be used for drawing functions, dots, bars, histograms, and pie charts. It offers other useful options like drawing in different colors, naming the axes of the coordinate system, and naming the entire plot. It also supports drawing in both 2D and 3D.\n",
        "\n",
        "**Examples**:\n",
        "1. Draw dots in a coordinate system.\n",
        "2. Draw a function in a coordinate system over a given domain.\n",
        "3. Draw a line in a coordinate system that passes through two dots."
      ]
    },
    {
      "cell_type": "code",
      "execution_count": 17,
      "metadata": {
        "colab": {
          "base_uri": "https://localhost:8080/",
          "height": 1000
        },
        "id": "YZ_C6NXwoyiG",
        "outputId": "523a1c62-a10f-4f04-95bf-5428905c0990"
      },
      "outputs": [
        {
          "data": {
            "image/png": "[encoded data removed]",
            "text/plain": [
              "<Figure size 640x480 with 1 Axes>"
            ]
          },
          "metadata": {},
          "output_type": "display_data"
        },
        {
          "data": {
            "image/png": "[encoded data removed]",
            "text/plain": [
              "<Figure size 640x480 with 1 Axes>"
            ]
          },
          "metadata": {},
          "output_type": "display_data"
        },
        {
          "data": {
            "image/png": "[encoded data removed]",
            "text/plain": [
              "<Figure size 640x480 with 1 Axes>"
            ]
          },
          "metadata": {},
          "output_type": "display_data"
        }
      ],
      "source": [
        "import matplotlib.pyplot as plt\n",
        "import numpy as np\n",
        "\n",
        "# Example 1\n",
        "# Draw dots\n",
        "\n",
        "# Define coordinates for the dots\n",
        "x_dots = [1, 2, 3, 4, 5]\n",
        "y_dots = [1, 4, 9, 16, 25]\n",
        "\n",
        "# Plot the dots\n",
        "plt.scatter(x_dots, y_dots)\n",
        "plt.xlabel('X')\n",
        "plt.ylabel('Y')\n",
        "plt.title('Dots in a Coordinate System')\n",
        "plt.grid()\n",
        "plt.show()\n",
        "\n",
        "# Example 2\n",
        "# Draw function\n",
        "\n",
        "# Define the function\n",
        "def f(x):\n",
        "    return x**2 + 1\n",
        "\n",
        "# Define the domain\n",
        "x_func = np.linspace(-3, 3, 100)  # Adjust the domain as needed\n",
        "\n",
        "# Plot the function\n",
        "plt.plot(x_func, f(x_func))\n",
        "plt.xlabel('X')\n",
        "plt.ylabel('Y')\n",
        "plt.title('Function in a Coordinate System')\n",
        "plt.grid()\n",
        "plt.show()\n",
        "\n",
        "# Example 3\n",
        "# Draw line\n",
        "\n",
        "# Define the coordinates of the two dots\n",
        "x_line = [1, 5]\n",
        "y_line = [1, 25]\n",
        "\n",
        "# Plot the line passing through the two dots\n",
        "plt.plot(x_line, y_line, marker='o')\n",
        "plt.xlabel('X')\n",
        "plt.ylabel('Y')\n",
        "plt.title('Line Passing Through Two Dots')\n",
        "plt.grid()\n",
        "plt.show()"
      ]
    },
    {
      "cell_type": "markdown",
      "metadata": {
        "id": "vMlmpoEBhdMW"
      },
      "source": [
        "### Basic Mathematical Functions\n",
        "\n",
        "**Absolute Value**\n",
        "\n",
        "The absolute value using NumPy can be calculated with `np.abs(<np.array>)` or `abs(x)`. The `np.abs` function is used on a NumPy array and returns an array where all elements are positive.\n",
        "\n",
        "**Polynomial Functions**\n",
        "\n",
        "A one-dimensional polynomial function is defined as:\n",
        "$$f(x)=\\sum_{k=0}^{n} a_k \\cdot x^k$$\n",
        "Using the NumPy library, a polynomial function can be created with `np.poly1d`, where the $a_k, 0 \\leq k \\leq n$ are elements of a `np.array`.\n",
        "\n",
        "**Derivatives**\n",
        "\n",
        "Accordingly, the derivative of a polynomial function is:\n",
        "$$f'(x) = \\sum_{k=1}^{n} k \\cdot a_k \\cdot x^{k-1}$$\n",
        "and the derivative of a polynomial function `f` can be found using `np.polyder(f)` where `f=np.poly1d(<np.array>)`.\n",
        "\n",
        "Except for calculating derivatives of polynomial functions, NumPy does not offer a function to calculate the derivative of any function.\n",
        "\n",
        "This leaves us two popular options for calculating a derivative of a general function:\n",
        "\n",
        "#### Custom function\n",
        "Write a function to calculate the derivative according to the definition of a derivative. The function `derivative_of` does exactly this and can differentiate any one-dimensional Python function.\n",
        "\n",
        "**Advantages:**\n",
        "The function `derivative_of` returns a function and as so supports higher-order derivatives. Additional advantage of this method is that no additional library.\n",
        "\n",
        "**Disadvantages:**\n",
        "The function `derivative_of` supports only one dimensional functions.\n",
        "\n",
        "*derivative_of can be only used with used with mathematical function, take a number as an input and return a number as an output*\n",
        "\n",
        "#### `Sympy`-library\n",
        "The `sympy` library's `sympy.diff` function with `sympy.symbols` is the most general and flexible solution for symbolic differentiation. It allows the calculation of the derivative of a function and can be used to calculate higher-order derivatives (second, third, etc.). It can also be used to calculate partial derivatives of a multi-dimensional function.\n",
        "\n",
        "**Advantages:**\n",
        "It supports higher-order and partial derivatives.\n",
        "\n",
        "**Disadvantages:**\n",
        "It can't operate on standard Python functions but requires a special variable type (symbolic objects). Instead of creating a standard Python function for the mathematical function whose derivative is required, a symbolic object representing the mathematical function is created. The operations of differentiation are then performed on this object.\n",
        "\n",
        "My suggestion is to use the `derivative_of` function whenever possible and to use `sympy.diff` for multi-dimensional functions. Note that `sympy.diff` is not used in this seminar work.\n",
        "\n",
        "\n",
        "\n",
        "**Integrals**\n",
        "\n",
        "NumPy also does not offer functions for calculating bounded integrals or integrals in general; they need to be calculated manually. The `scipy.integrate` library can be used for approximation. Use `scipy.integrate.nquad` for single-value functions and for functions with more than one variable, and use `scipy.integrate.trapz` for functions with more than one dimension. Note that Integrals are not required or used in this seminar work.\n",
        "\n",
        "*In general, multi-purpose programming languages do not offer methods or libraries that can manipulate mathematical functions. They usually offer a way to approximate them, perhaps because mathematical functions are not a standard type of variable in general-purpose languages.*\n",
        "\n",
        "**Examples:**.\n",
        "1. Calculate the first derivative of the polynomial function $f(x) = 2*x^2 + 3*x -5$ and evaluate it in $x = 3$.\n",
        "2. Calculate the first and second derivatives of the polynomial function $f(x) = 2*x^2 + 3*x -5$ and evaluate them in $x = 3$ using the `derivative_of` function\n",
        "3. Calculate the first and second derivatives of the function $f(x) = 2*x^2 + 3*x -5$ and evaluate them in $x = 3$ using the `sp.diff` function.\n",
        "4. Calculate the partial derivatives of $f(x) = 2 * x**2 + 3 * y**2 - 5$ with respect to `x` and `y` using the `sp.diff` function.\n"
      ]
    },
    {
      "cell_type": "code",
      "execution_count": 18,
      "metadata": {
        "colab": {
          "base_uri": "https://localhost:8080/"
        },
        "id": "XCsn8qr9kF9M",
        "outputId": "e614f2a3-0beb-4885-9e1c-95cbaa79c2a5"
      },
      "outputs": [
        {
          "name": "stdout",
          "output_type": "stream",
          "text": [
            "The first derivative of f(x) = 2x^2 + 3x - 5 in x = 3 is: 15\n",
            "The first derivative of f(x) = 2x^2 + 3x - 5 in x = 3 is: 15.000000000142675\n",
            "The second derivative of f(x) = 2x^2 + 3x - 5 in x = 3 is: 4.000000330961484\n",
            "The first derivative of 2*x**2 + 3*x - 5 is 4*x + 3\n",
            "The first derivative of 2*x**2 + 3*x - 5 in x = 3 is 15.0000000000000\n",
            "The second derivative of 2*x**2 + 3*x - 5 is 4\n",
            "The first derivative of 2*x**2 + 3*x - 5 in x = 3 is 4.00000000000000\n",
            "The partial derivative of 2*x**2 + 3*y**2 - 5 with respect x is 4*x\n",
            "The partial derivative of 2*x**2 + 3*y**2 - 5 with respect y is 6*y\n"
          ]
        }
      ],
      "source": [
        "# Example 1\n",
        "import numpy as np\n",
        "\n",
        "def f(x):\n",
        "    return 2 * x**2 + 3 * x - 5\n",
        "x = 3\n",
        "\n",
        "# Example 1\n",
        "# the polynomial function is represented as a Python list\n",
        "f_array = np.poly1d([2, 3, -5])\n",
        "# df is first derivative of f\n",
        "df = f_array.deriv()\n",
        "# First derivative of f(x) is 4 * x + 3 - 5\n",
        "print(f\"The first derivative of f(x) = 2x^2 + 3x - 5 in x = 3 is: {df(x)}\")\n",
        "\n",
        "# Example 2\n",
        "# df is first derivative of f\n",
        "df = derivative_of(f)\n",
        "# ddf is the second derivative of f\n",
        "ddf = derivative_of(df)\n",
        "# First derivative of f(x) is 4 * x + 3 - 5\n",
        "print(f\"The first derivative of f(x) = 2x^2 + 3x - 5 in x = 3 is: {df(x)}\")\n",
        "# Second derivative of f(x) is 4\n",
        "print(f\"The second derivative of f(x) = 2x^2 + 3x - 5 in x = 3 is: {ddf(x)}\")\n",
        "\n",
        "# Example 3\n",
        "import sympy as sp\n",
        "x = sp.symbols('x')\n",
        "f = 2 * x**2 + 3 * x - 5\n",
        "# df is first derivative of f\n",
        "df = sp.diff(f, x)\n",
        "print(f\"The first derivative of {f} is {df}\")\n",
        "print(f\"The first derivative of {f} in x = 3 is\", df.evalf(subs={x: 3}))\n",
        "# ddf is the second derivative of f\n",
        "ddf = sp.diff(df, x)\n",
        "print(f\"The second derivative of {f} is {ddf}\")\n",
        "print(f\"The first derivative of {f} in x = 3 is {ddf.evalf(subs={x: 3})}\")\n",
        "\n",
        "# Example 4\n",
        "import sympy as sp\n",
        "x = sp.symbols('x')\n",
        "y = sp.symbols('y')\n",
        "f = 2 * x**2 + 3 * y**2 - 5\n",
        "# df is first derivative of f\n",
        "dxf = sp.diff(f, x)\n",
        "print(f\"The partial derivative of {f} with respect {x} is {dxf}\")\n",
        "# ddf is the second derivative of f\n",
        "dyf = sp.diff(f, y)\n",
        "print(f\"The partial derivative of {f} with respect {y} is {dyf}\")"
      ]
    },
    {
      "cell_type": "markdown",
      "metadata": {
        "id": "Y5WvzsQDNLQX"
      },
      "source": [
        "## Arrays, Matrices, and Elements of Linear Algebra in Python\n",
        "\n",
        "Python has a rich set of functions and libraries for operations with vectors and matrices. This is generally done using the libraries NumPy and SymPy. Matrices offer a powerful way to handle linear algebra operations. This text in the chapter on optimization algorithms will extensively use linear algebra and the NumPy library."
      ]
    },
    {
      "cell_type": "markdown",
      "metadata": {
        "id": "4fpFuGEm8XaG"
      },
      "source": [
        "### Standard operations with lists in Python\n",
        "Although not connected directly to linear algebra, standard lists in python will be used in developing the optimization algorithms in the next chapter of this text.\n",
        "\n",
        "\n",
        "Most popular operations with the standard python list are:\n",
        "\n",
        "* **Indexing**: `list[i]`, where `i` is the index.\n",
        "* **Appending**: `list.append(x)`, where `x` is appended at the end of the list.\n",
        "* **Removing**: `list.pop(i)`, where `i` is the index of the element to be deleted.\n",
        "* **Inserting**: `list.insert(i, x)`, where `x` is the element to be inserted and `i` is it's position index.\n",
        "* **Slicing**: `list[x:y]`, where `x` and `y` are the indices of the first and last elements of the returned list (inclusive of `x` and exclusive of `y`). `x` or `y` might be omitted, which would be interpreted as the start and end of the list, respectively.\n",
        "* **Length of a list**: `len(list)` - getting the size of the list.\n",
        "\n",
        "\n",
        "*When it comes to indexing, the first element of the list has index 0 and the last element can be accessed with -1.*\n",
        "\n",
        "**Examples**:\n",
        "\n",
        "1. Define `list_a` with 10 elements and print its first, second, and last elements.\n",
        "2. Print the size of `list_a`.\n",
        "3. Append an element to the already defined `list_a` and print the list.\n",
        "4. Remove the second element of `list_a` and print the list.\n",
        "5. Insert an element in `list_a` between the second and third elements and print the list.\n",
        "6. From `list_a`, use the slicing operator to create a new list, `list_b`, that contains the elements from `list_a` starting from index 3 and ending at index 5, including the elements at index 3 and 5.\n",
        "7. From `list_a`, use the slicing operator to create a list, `list_b`, that does not contain the first 3 elements of `list_a`.\n",
        "8. From `list_a`, use the slicing operator to create a list, `list_b`, that does not contain the first 4 elements of `list_a`, in the same order as in `list_a`.\n",
        "\n"
      ]
    },
    {
      "cell_type": "code",
      "execution_count": 19,
      "metadata": {
        "colab": {
          "base_uri": "https://localhost:8080/"
        },
        "id": "ZYYt9L0uBOYX",
        "outputId": "1333e707-4196-48bb-e166-58200ec9d14e"
      },
      "outputs": [
        {
          "name": "stdout",
          "output_type": "stream",
          "text": [
            "First element: 1\n",
            "Second element: 2\n",
            "Last element: 10\n",
            "Size of list_a: 10\n",
            "List after appending an element: [1, 2, 3, 4, 5, 6, 7, 8, 9, 10, 11]\n",
            "List after removing the second element: [1, 3, 4, 5, 6, 7, 8, 9, 10, 11]\n",
            "List after inserting an element: [1, 3, 15, 4, 5, 6, 7, 8, 9, 10, 11]\n",
            "List_b from index 3 to 5 of list_a: [4, 5, 6]\n",
            "List_b excluding the first 3 elements of list_a: [4, 5, 6, 7, 8, 9, 10, 11]\n",
            "List_b excluding the first 4 elements of list_a: [5, 6, 7, 8, 9, 10, 11]\n"
          ]
        }
      ],
      "source": [
        "# Example 1\n",
        "# Define list_a with 10 elements\n",
        "list_a = [1, 2, 3, 4, 5, 6, 7, 8, 9, 10]\n",
        "# Print the first, second, and last elements\n",
        "print(\"First element:\", list_a[0])\n",
        "print(\"Second element:\", list_a[1])\n",
        "print(\"Last element:\", list_a[-1])\n",
        "\n",
        "# Example 2\n",
        "# Print the list_a size\n",
        "print(\"Size of list_a:\", len(list_a))\n",
        "\n",
        "# Example 3\n",
        "# Append an element to list_a and print the list\n",
        "list_a.append(11)\n",
        "print(\"List after appending an element:\", list_a)\n",
        "\n",
        "# Example 4\n",
        "# Remove the second element of list_a and print the list\n",
        "list_a.pop(1)\n",
        "print(\"List after removing the second element:\", list_a)\n",
        "\n",
        "# Example 5\n",
        "# Insert an element in list_a between the second and third elements and print the list\n",
        "list_a.insert(2, 15)\n",
        "print(\"List after inserting an element:\", list_a)\n",
        "\n",
        "# Example 6\n",
        "# Create a new list list_b from list_a using the slicing operator from index 3 to 5\n",
        "list_b = list_a[3:6]\n",
        "print(\"List_b from index 3 to 5 of list_a:\", list_b)\n",
        "\n",
        "# Example 7\n",
        "# Create a new list list_b from list_a excluding the first 3 elements\n",
        "list_b = list_a[3:]\n",
        "print(\"List_b excluding the first 3 elements of list_a:\", list_b)\n",
        "\n",
        "# Example 8\n",
        "# Create a new list list_b from list_a excluding the first 4 elements\n",
        "list_b = list_a[4:]\n",
        "print(\"List_b excluding the first 4 elements of list_a:\", list_b)"
      ]
    },
    {
      "cell_type": "markdown",
      "metadata": {
        "id": "2mpUlPK88tm0"
      },
      "source": [
        "### Numpy library, standard operations\n",
        "Creating a vector in Python can be done with the `numpy` library. Vectors created using the `numpy` library are usually referred to as `numpy` arrays or np arrays, and they are created from a list. Before using the `numpy` library, it needs to be imported. The standard way to import it is `import numpy as np`. This line imports numpy as np, and from now on in this text, numpy will be referenced and called np, as this is standard slang in Python.\n",
        "\n",
        "```\n",
        "import numpy as np\n",
        "my_list = [1,2,3,4,5]\n",
        "my_vector = np.array(my_list)\n",
        "```\n",
        "The numpy library does not have any special data structure for a matrix, but matrixes are created as an array of arrays\n",
        "```\n",
        "my_matrix = np.array([[1, 2, 3],[4, 5, 6],[7, 8, 9]])\n",
        "```\n",
        "\n",
        "It is important to note that all the previously described functions and operators that are applicable to the standard Python list are also applicable to np arrays. Other useful functions that are part of the np library but not directly connected to linear algebra are:\n",
        "\n",
        "\n",
        "* `np.full`: Returns an array with a specified size and shape, prefilled with a provided element.\n",
        "* `np.linspace`: Generates evenly spaced numbers over a specified interval, useful for plotting functions.\n",
        "* `np.concatenate`: Joins together vectors and matrices, useful for solving linear systems or formalizing linear programs.\n",
        "* `np.vstack`: Stacks arrays in sequence vertically (row-wise), useful for concatenating matrices.\n",
        "* `np.hstack`: Stacks arrays in sequence horizontally (column-wise), useful for concatenating matrices.\n",
        "* `.shape`: Returns the number of rows and columns of a matrix.\n",
        "\n",
        "\n",
        "\n",
        "*In the context of NumPy, a matrix `A` with `m` rows and `n `columns is said to have **shape** `[m, n]`.*\n",
        "\n",
        "\n",
        "**Examples**\n",
        "1. Create an array with size 10, filled with the number 5.\n",
        "2. Add additional 5 zeros to the end of the array.\n",
        "3. Generate 10 values for the function $f(x)=x^2$ on a domain between `[1,10]`.\n",
        "4. Create a matrix `A1` with shape `[2, 3]`.\n",
        "5. Create a matrix `A2` with shape `[2, 2]` and concatenate it with matrix `A1` so that the new matrix `A3 = [A1 A2]` is created with a shape `[2, 5]`.\n",
        "6. Create a new matrix `A4` with a shape `[3, 5]` and concatenate it with the matrix `A3` so that `A5 = [A3; A4]` is created with a shape `[5, 5]`.\n"
      ]
    },
    {
      "cell_type": "code",
      "execution_count": 20,
      "metadata": {
        "colab": {
          "base_uri": "https://localhost:8080/"
        },
        "id": "Ss1MRee6UMUC",
        "outputId": "98a57fd0-1855-4d4b-9bcd-abe8ebfe3fb7"
      },
      "outputs": [
        {
          "name": "stdout",
          "output_type": "stream",
          "text": [
            "Array filled with 5s: [5 5 5 5 5 5 5 5 5 5]\n",
            "Array with 5 zeros at the end: [5. 5. 5. 5. 5. 5. 5. 5. 5. 5. 0. 0. 0. 0. 0.]\n",
            "Values of f(x)=x^2: [  1.   4.   9.  16.  25.  36.  49.  64.  81. 100.]\n",
            "Matrix A1 with shape [2,3]:\n",
            " [[1 1 1]\n",
            " [1 1 1]]\n",
            "Matrix A2 with shape [2,2]:\n",
            " [[2 2]\n",
            " [2 2]]\n",
            "Matrix A3 with shape [2,5]:\n",
            " [[1 1 1 2 2]\n",
            " [1 1 1 2 2]]\n",
            "Matrix A4 with shape [3,5]:\n",
            " [[4 4 4 4 4]\n",
            " [4 4 4 4 4]\n",
            " [4 4 4 4 4]]\n",
            "Matrix A5 with shape [5,5]:\n",
            " [[1 1 1 2 2]\n",
            " [1 1 1 2 2]\n",
            " [4 4 4 4 4]\n",
            " [4 4 4 4 4]\n",
            " [4 4 4 4 4]]\n"
          ]
        }
      ],
      "source": [
        "import numpy as np\n",
        "\n",
        "# Example 1\n",
        "# Create an array with size 10, filled with the number 5\n",
        "array = np.full(10, 5)\n",
        "print(\"Array filled with 5s:\", array)\n",
        "\n",
        "# Example 2\n",
        "# Add additional 5 zeros to the end of the array\n",
        "array = np.append(array, np.zeros(5))\n",
        "print(\"Array with 5 zeros at the end:\", array)\n",
        "\n",
        "# Example 3\n",
        "# Generate 10 values for the function f(x) = x^2 on the domain [1, 10]\n",
        "x = np.linspace(1, 10, 10)\n",
        "f_x = x ** 2\n",
        "print(\"Values of f(x)=x^2:\", f_x)\n",
        "\n",
        "# Example 3\n",
        "# Create a matrix A1 with shape [2,3]\n",
        "A1 = np.full((2, 3),1)\n",
        "print(\"Matrix A1 with shape [2,3]:\\n\", A1)\n",
        "\n",
        "# Example 4\n",
        "# Create a matrix A2 with shape [2,2]\n",
        "A2 = np.full((2, 2),2)\n",
        "print(\"Matrix A2 with shape [2,2]:\\n\", A2)\n",
        "\n",
        "# Example 5\n",
        "# Concatenate A2 with A1 to create A3 with shape [2,5]\n",
        "A3 = np.hstack((A1, A2))\n",
        "print(\"Matrix A3 with shape [2,5]:\\n\", A3)\n",
        "\n",
        "# Example 6\n",
        "# Create a matrix A4 with shape [3,5]\n",
        "A4 = np.full((3, 5),4)\n",
        "print(\"Matrix A4 with shape [3,5]:\\n\", A4)\n",
        "\n",
        "# Example 7\n",
        "# Concatenate A3 with A4 to create A5 with shape [5,5]\n",
        "A5 = np.vstack((A3, A4))\n",
        "print(\"Matrix A5 with shape [5,5]:\\n\", A5)"
      ]
    },
    {
      "cell_type": "markdown",
      "metadata": {
        "id": "fQ7qw4SvdPil"
      },
      "source": [
        "### Linear algebra with Numpy\n"
      ]
    },
    {
      "cell_type": "markdown",
      "metadata": {
        "id": "-dKXyd74h4eO"
      },
      "source": [
        "**The following text will use vectors and matrices with elements in the set of real numbers $\\mathbb{R}$.**\n",
        "\n",
        "\n",
        "Vector addition with `np` is quite intuitive as it uses the `+` operator. In mathematics, vector addition is defined between two vectors with the same dimension. If the two vectors have different dimensions, a `ValueError` exception is thrown.\n",
        "\n",
        "**Example**: Sum two vectors `v1 = [1, 2, 3]` and `v2 = [3, 4, 5]`, then print `v1`, `v2`, and `v1 + v2`."
      ]
    },
    {
      "cell_type": "code",
      "execution_count": 21,
      "metadata": {
        "colab": {
          "base_uri": "https://localhost:8080/"
        },
        "id": "4zYb4ztlOkxl",
        "outputId": "78b64071-0469-4944-dad4-18a8d20bd7c2"
      },
      "outputs": [
        {
          "name": "stdout",
          "output_type": "stream",
          "text": [
            "Result of addition of [1 2 3] and [3 4 5] is [4 6 8]\n"
          ]
        }
      ],
      "source": [
        "import numpy as np\n",
        "\n",
        "v1 = np.array([1,2,3])\n",
        "v2 = np.array([3,4,5])\n",
        "\n",
        "v3 = v1 + v2\n",
        "\n",
        "print(f\"Result of addition of {v1} and {v2} is {v3}\")"
      ]
    },
    {
      "cell_type": "markdown",
      "metadata": {
        "id": "XNVSUYqIkalL"
      },
      "source": [
        "Matrix addition with `np` is also possible and follows the same rules as vector addition, as matrices and vectors are represented with `np.arrays`.\n",
        "\n",
        "**Example**. Sum two matrices $ A =\n",
        "\\begin{pmatrix}\n",
        "1 & 2\\\\\n",
        "3 & 4\n",
        "\\end{pmatrix}$\n",
        "and $B=\n",
        "\\begin{pmatrix}\n",
        "5 & 6\\\\\n",
        "7 & 8\n",
        "\\end{pmatrix}$"
      ]
    },
    {
      "cell_type": "code",
      "execution_count": 22,
      "metadata": {
        "colab": {
          "base_uri": "https://localhost:8080/"
        },
        "id": "UgT7k1MTl6lP",
        "outputId": "f533a593-b4ee-497a-8503-8b71513108ae"
      },
      "outputs": [
        {
          "name": "stdout",
          "output_type": "stream",
          "text": [
            "Sum of A and B:\n",
            "[[ 6  8]\n",
            " [10 12]]\n"
          ]
        }
      ],
      "source": [
        "import numpy as np\n",
        "A = np.array([[1, 2], [3, 4]])\n",
        "B = np.array([[5, 6], [7, 8]])\n",
        "C = A + B\n",
        "print(\"Sum of A and B:\")\n",
        "print(C)"
      ]
    },
    {
      "cell_type": "markdown",
      "metadata": {
        "id": "Hobfax2yDPBq"
      },
      "source": [
        "#### Transposed vectors and matrixes\n",
        "\n",
        "\n",
        "In mathematics a transposed vector $\\mathbf{a^T}$ of a vector $\n",
        "\\mathbf{a} = \\begin{bmatrix}\n",
        "a_1 \\\\\n",
        "a_2 \\\\\n",
        "\\vdots \\\\\n",
        "a_n\n",
        "\\end{bmatrix}\n",
        "$ is $\n",
        "\\mathbf{a}^T = \\begin{bmatrix}\n",
        "a_1 \\\n",
        "a_2 \\\n",
        "\\dots\\\n",
        "a_n\n",
        "\\end{bmatrix}\n",
        "$\n",
        "\n",
        "Similarly for matrix, transposed matrix $A^T$ of a matrix\n",
        "$\\mathbf{A} = \\begin{bmatrix}\n",
        "a_{11} & a_{12} & \\cdots & a_{1n} \\\\\n",
        "a_{21} & a_{22} & \\cdots & a_{2n} \\\\\n",
        "\\vdots & \\vdots & \\ddots & \\vdots \\\\\n",
        "a_{m1} & a_{m2} & \\cdots & a_{mn}\n",
        "\\end{bmatrix} $ is\n",
        "$\\mathbf{A}^T = \\begin{bmatrix}\n",
        "a_{11} & a_{21} & \\cdots & a_{m1} \\\\\n",
        "a_{12} & a_{22} & \\cdots & a_{m2} \\\\\n",
        "\\vdots & \\vdots & \\ddots & \\vdots \\\\\n",
        "a_{1n} & a_{2n} & \\cdots & a_{mn}\n",
        "\\end{bmatrix}$\n",
        "\n",
        "Transposing a matrix in NumPy can be done using `A.T`, where `A` is the matrix. Since in NumPy a vector is a special case of a matrix or an array, the same method applies to vectors.\n",
        "\n",
        "\n",
        "*The interpretation of transposing a matrix is creating a new matrix where the rows from the original matrix become columns and the columns become rows.*\n",
        "\n",
        "\n",
        "**Examples**:\n",
        "1. For a given vector, print the transposed vector.\n",
        "2. For a given matrix, print the transposed matrix."
      ]
    },
    {
      "cell_type": "code",
      "execution_count": 23,
      "metadata": {
        "colab": {
          "base_uri": "https://localhost:8080/"
        },
        "id": "OCOELRinKXyw",
        "outputId": "4c675f1f-c7ea-412b-895d-cc0483dc66bc"
      },
      "outputs": [
        {
          "name": "stdout",
          "output_type": "stream",
          "text": [
            "The transposed vector for the vector:\n",
            "[1 2 3]\n",
            "is:\n",
            "[1 2 3]\n",
            "The transposed matrix for the matrix:\n",
            "[[1 2 3]\n",
            " [4 5 6]\n",
            " [7 8 9]]\n",
            "is:\n",
            "[[1 4 7]\n",
            " [2 5 8]\n",
            " [3 6 9]]\n"
          ]
        }
      ],
      "source": [
        "import numpy as np\n",
        "# Example 1\n",
        "# Creating a 2D array (matrix)\n",
        "a = np.array([1, 2, 3])\n",
        "\n",
        "print(\"The transposed vector for the vector:\")\n",
        "print(a)\n",
        "print(\"is:\")\n",
        "print(a.T)\n",
        "\n",
        "\n",
        "# Example 2\n",
        "# Creating a 2D array (matrix)\n",
        "A = np.array([[1, 2, 3],\n",
        "              [4, 5, 6],\n",
        "              [7, 8, 9]])\n",
        "print(\"The transposed matrix for the matrix:\")\n",
        "print(A)\n",
        "print(\"is:\")\n",
        "print(A.T)\n"
      ]
    },
    {
      "cell_type": "markdown",
      "metadata": {
        "id": "DyBPnsjK7UmH"
      },
      "source": [
        "#### Dot Product of Vectors and Product of Matrices\n",
        "\n",
        "The dot product for vectors\n",
        "$\\mathbf{a}^T$ and $\\mathbf{b}$ in $\\mathbb{R}^n$\n",
        "where:\n",
        "$\n",
        "\\mathbf{a}^T = \\begin{bmatrix}\n",
        "a_1 \\\n",
        "a_2 \\\n",
        "\\dots\\\n",
        "a_n\n",
        "\\end{bmatrix}, \\quad\n",
        "\\mathbf{b} = \\begin{bmatrix}\n",
        "b_1 \\\\\n",
        "b_2 \\\\\n",
        "\\vdots \\\\\n",
        "b_n\n",
        "\\end{bmatrix}\n",
        "$  \n",
        "is defined as:\n",
        "$\n",
        "\\mathbf{a}^T \\mathbf{b} = \\sum_{i=1}^{n} a_i b_i\n",
        "$\n",
        "\n",
        "\n",
        "The expression $\\sqrt{\\mathbf{x}^{T}\\cdot\\mathbf{x}}$ is called the Euclidean norm of the vector $\\mathbf{x}$ and is denoted as $\\|\\mathbf{x}\\|$.\n",
        "\n",
        "*The interpretation of this norm is the size or length of the vector.*\n",
        "\n",
        "The vector product is also equal to:\n",
        "\n",
        "$$\\mathbf{x} \\cdot \\mathbf{y} = \\|\\mathbf{x}\\| \\|\\mathbf{y}\\| \\cos(\\theta)$$\n",
        "\n",
        "where $\\theta$ is the angle between $x$ and $y$\n",
        "\n",
        "\n",
        "The cosine of the angle between two vectors can be calculated with:\n",
        "\n",
        "$$\\cos(\\theta) = \\frac{\\mathbf{x} \\cdot \\mathbf{y}}{\\|\\mathbf{x}\\| \\|\\mathbf{y}\\|}$$\n",
        "\n",
        "\n",
        "*The dot product is usually used for finding a projection $a_b$ of the vector $a$ on the vector $b$,\n",
        "$$\n",
        "{\\mathbf{a_b}} = \\left( \\frac{\\mathbf{a}^T \\cdot \\mathbf{b}}{\\|\\mathbf{b}\\|^2} \\right) \\mathbf{b}\n",
        "$$*\n",
        "\n",
        "\n",
        "Similarly, for matrices, product of two matrices $A$ and $B$ with shapes [n,k] and [k,m] accordingly is an $\\mathbf{AB}$ matrix with a shape [n,m] where the element $\\mathbf{AB[i,j]}$ is a dot product of the i'th row vector and the j'th column vector of $\\mathbf{B}$.\n",
        "\n",
        "$$\n",
        "AB[i,j] = \\sum_{q=1}^{k} A[i,q] B[q,j]\n",
        "$$\n",
        "\n",
        "\n",
        "In `Nympy` the dot product can be found with\n",
        "`np.dot(a, b)`\n",
        "and contrary to the mathematical definition it does not require that one of the vectors be transposed.\n",
        "\n",
        "Examples:\n",
        "* Using the properties of the dot product and given two vectors `a=[2,3]` and `b=[4,5]` find a vector `a_b` that will be the projection of a on b and plot it.\n",
        "* Given the linear function `f(x_1..x_4)=3x_1+5x_2-4x_3+19x_4 + 3` in `x = [3,4,5,1]`, using the dot product x*a where a are the parameters of the linear function `a = [3,5,-4,19,3]`"
      ]
    },
    {
      "cell_type": "code",
      "execution_count": 24,
      "metadata": {
        "colab": {
          "base_uri": "https://localhost:8080/",
          "height": 572
        },
        "id": "qvt8vigvc3GV",
        "outputId": "dd6e1a7c-feeb-4f8f-a8c6-3891002b61ee"
      },
      "outputs": [
        {
          "name": "stderr",
          "output_type": "stream",
          "text": [
            "/var/folders/4s/hhswlq455zv2br9bkfsygsfr0000gn/T/ipykernel_74508/1885378213.py:10: UserWarning: color is redundantly defined by the 'color' keyword argument and the fmt string \"k:\" (-> color='k'). The keyword argument will take precedence.\n",
            "  plt.plot([0, v1[0]], [0, v1[1]], 'k:' ,color='b', label='v1', marker='o')\n",
            "/var/folders/4s/hhswlq455zv2br9bkfsygsfr0000gn/T/ipykernel_74508/1885378213.py:11: UserWarning: color is redundantly defined by the 'color' keyword argument and the fmt string \"k:\" (-> color='k'). The keyword argument will take precedence.\n",
            "  plt.plot([0, v2[0]], [0, v2[1]], 'k:' ,color='g', label='v1', marker='o')\n",
            "/var/folders/4s/hhswlq455zv2br9bkfsygsfr0000gn/T/ipykernel_74508/1885378213.py:12: UserWarning: color is redundantly defined by the 'color' keyword argument and the fmt string \"k:\" (-> color='k'). The keyword argument will take precedence.\n",
            "  plt.plot([0, v1_proj_v2[0]], [0, v1_proj_v2[1]], 'k:', color='r', label='v1', marker='o')\n"
          ]
        },
        {
          "data": {
            "image/png": "[encoded data removed]",
            "text/plain": [
              "<Figure size 640x480 with 1 Axes>"
            ]
          },
          "metadata": {},
          "output_type": "display_data"
        },
        {
          "name": "stdout",
          "output_type": "stream",
          "text": [
            "the value of f(x_1..x_4)=3x1+5x2-4x3+19x4+3 in x=(3,4,5,1) is 31\n"
          ]
        }
      ],
      "source": [
        "import numpy as np\n",
        "import matplotlib.pyplot as plt\n",
        "\n",
        "# Example 1:\n",
        "v1 = np.array([3,5])\n",
        "v2 = np.array([5,1])\n",
        "v1_v2 = np.dot(v1, v2)\n",
        "v2_v2 = np.dot(v2, v2)\n",
        "v1_proj_v2=(v1_v2/(v2_v2))*v2\n",
        "plt.plot([0, v1[0]], [0, v1[1]], 'k:' ,color='b', label='v1', marker='o')\n",
        "plt.plot([0, v2[0]], [0, v2[1]], 'k:' ,color='g', label='v1', marker='o')\n",
        "plt.plot([0, v1_proj_v2[0]], [0, v1_proj_v2[1]], 'k:', color='r', label='v1', marker='o')\n",
        "plt.grid()\n",
        "plt.show()\n",
        "\n",
        "# Example 2:\n",
        "x = np.array([3,4,5,1])\n",
        "x = np.append(x, 1)\n",
        "a = np.array([3,5,-4,19,3])\n",
        "fx = np.dot(x,a)\n",
        "\n",
        "print(f\"the value of f(x_1..x_4)=3x1+5x2-4x3+19x4+3 in x=(3,4,5,1) is {fx}\")\n",
        "\n",
        "\n"
      ]
    },
    {
      "cell_type": "markdown",
      "metadata": {
        "id": "5LKfjA6OcCQy"
      },
      "source": [
        "#### Cross product\n",
        "\n",
        "\n",
        "The cross product of two vectors is exclusively defined for vectors in three dimensions. It is denoted with $\\times$, and for vectors $\\mathbf{a} = [a_1, a_2, a_3]$ and $\\mathbf{b} = [b_1, b_2, b_3]$, it is defined as the vector $\\mathbf{c}$:\n",
        "\n",
        "$$\n",
        "\\mathbf{c} = \\mathbf{a} \\times \\mathbf{b} = \\begin{bmatrix} a_1 \\\\ a_2 \\\\ a_3 \\end{bmatrix} \\times \\begin{bmatrix} b_1 \\\\ b_2 \\\\ b_3 \\end{bmatrix} = \\begin{bmatrix} a_2 b_3 - a_3 b_2 \\\\ a_3 b_1 - a_1 b_3 \\\\ a_1 b_2 - a_2 b_1 \\end{bmatrix}\n",
        "$$\n",
        "\n",
        "Also, the norm of $\\mathbf{c} = \\mathbf{a} \\times \\mathbf{b}$ can be expressed as a product of the norms of $\\mathbf{a}$ and $\\mathbf{b}$ and the $\\sin$ of the angle $\\theta$ between them.\n",
        "\n",
        "$$\n",
        "\\|\\mathbf{c}\\| = \\|\\mathbf{a} \\times \\mathbf{b}\\| = \\|\\mathbf{a}\\| \\|\\mathbf{b}\\| \\sin(\\theta)\n",
        "$$\n",
        "\n",
        "*Interpretation: In geometry the cross product of two vectors is an orthogonal vector to the plain that the vectors form, the size of the vector is the area of the parallelogram formed by the two vectors*\n",
        "\n",
        "\n",
        "In `np` the cross product of `a` and `b` is calculated with the function `np.cross(a, b)`.\n",
        "\n",
        "\n",
        "**Examples**:\n",
        "1. Calculate the cross product of the perpendicular vectors:\n",
        "`[1, 0, 0]`, `[0, 1, 0]`\n",
        "2. Calculate the cross product of the non perpendicular non linear dependent vectors `[1,2,3]`, `[3,4,5]`\n",
        "3. Calculate the cross product of the linear dependent vectors `[1, 0, 0]`, `[5, 0, 0]`\n",
        "\n"
      ]
    },
    {
      "cell_type": "code",
      "execution_count": 25,
      "metadata": {
        "colab": {
          "base_uri": "https://localhost:8080/"
        },
        "id": "P3NQrE3k6OkT",
        "outputId": "13854898-35eb-4fc7-fe0e-c8d2711060f7"
      },
      "outputs": [
        {
          "name": "stdout",
          "output_type": "stream",
          "text": [
            "Example 1: Cross product of [1 0 0] and [0 1 0] = [0 0 1]\n",
            "Example 2: Cross product of [1 2 3] and [3 4 5] = [-2  4 -2]\n",
            "Example 3: Cross product of [1 0 0] and [5 0 0] = [0 0 0]\n"
          ]
        }
      ],
      "source": [
        "import numpy as np\n",
        "\n",
        "# Example 1\n",
        "v1 = np.array([1, 0, 0])\n",
        "v2 = np.array([0, 1, 0])\n",
        "c = np.cross(v1, v2)\n",
        "print(f'Example 1: Cross product of {v1} and {v2} = {c}')\n",
        "\n",
        "# Example 2\n",
        "v1 = np.array([1, 2, 3])\n",
        "v2 = np.array([3, 4, 5])\n",
        "c = np.cross(v1, v2)\n",
        "\n",
        "print(f'Example 2: Cross product of {v1} and {v2} = {c}')\n",
        "\n",
        "# Example 3\n",
        "v1 = np.array([1, 0, 0])\n",
        "v2 = np.array([5, 0, 0])\n",
        "c = np.cross(v1, v2)\n",
        "print(f'Example 3: Cross product of {v1} and {v2} = {c}')\n"
      ]
    },
    {
      "cell_type": "markdown",
      "metadata": {
        "id": "xZdYlVYwHdas"
      },
      "source": [
        "### Determinant of a Matrix\n",
        "\n",
        "The determinant of a matrix is generally used to solve a system of linear equations. It is used to determine if the system has a unique solution, no solution, or infinitely many solutions. Other uses of the determinant include finding an inverse of for a given matrix. In general, for a set of vectors, if the determinant is equal to 0, it indicates that there are at least two vectors that are linearly dependent.\n",
        "\n",
        "\n",
        "`np` uses the formula `np.linalg.det(A)` to calculate the determinant of A.\n",
        "\n",
        "**Example**:\n",
        "1. Find the determinant of a matrix of linear dependent row vectors\n",
        "```[[1, 2, 3, 4],\n",
        "[2, 4, 6, 8],\n",
        "[1, 0, 1, 0],\n",
        "[0, 1, 0, 1]]```\n",
        "2. Find the determinant of a matrix of linear independent row vectors:\n",
        "```[[1, 2, 3, 4],\n",
        "   [5, 7, 8, 9],\n",
        "   [10, 11, 13, 14],\n",
        "   [15, 16, 17, 19]]```"
      ]
    },
    {
      "cell_type": "code",
      "execution_count": 26,
      "metadata": {
        "colab": {
          "base_uri": "https://localhost:8080/"
        },
        "id": "0NaiS9TdR-WM",
        "outputId": "257360dd-d73e-4ab7-9aa4-7ac442a336eb"
      },
      "outputs": [
        {
          "name": "stdout",
          "output_type": "stream",
          "text": [
            "Determinant of the linearly dependent matrix: 0.00\n",
            "Determinant of the linearly independent matrix: -26.00\n"
          ]
        }
      ],
      "source": [
        "import numpy as np\n",
        "\n",
        "# Example 1\n",
        "dependent_matrix = np.array([\n",
        "    [1, 2, 3, 4],\n",
        "    [2, 4, 6, 8],  # This row is 2 times the first row\n",
        "    [1, 0, 1, 0],\n",
        "    [0, 1, 0, 1]\n",
        "])\n",
        "\n",
        "det_dependent = np.linalg.det(dependent_matrix)\n",
        "print(f\"Determinant of the linearly dependent matrix: {det_dependent:.2f}\")\n",
        "\n",
        "# Example 2\n",
        "independent_matrix = np.array([\n",
        "[1, 2, 3, 4],\n",
        "    [5, 7, 8, 9],\n",
        "    [10, 11, 13, 14],\n",
        "    [15, 16, 17, 19]\n",
        "])\n",
        "\n",
        "det_independent = np.linalg.det(independent_matrix)\n",
        "print(f\"Determinant of the linearly independent matrix: {det_independent:.2f}\")"
      ]
    },
    {
      "cell_type": "markdown",
      "metadata": {
        "id": "iuUXxIIfYUtO"
      },
      "source": [
        "### Unit/Identity Matrix and Inverse Matrix\n",
        "\n",
        "\n",
        "The matrix  $I$ with shape `[n,n]` is called an identity matrix or unite matrix if:\n",
        "$$\n",
        "I(i,j) =\n",
        "\\begin{cases}\n",
        "1 & \\text{if } i = j \\\\\n",
        "0 & \\text{if } i \\neq j\n",
        "\\end{cases}\n",
        "$$\n",
        "\n",
        "`Numpy` has a build in function for creating an identity matrix called `np.identity(<size>)`. The identity matrix is defined only by the number of the columns or rows. Because of this `np.identity(<size>)` only requires one positive integer to create an identity matrix.\n",
        "\n",
        "```\n",
        "size = 5\n",
        "I = np.identity(size)\n",
        "```\n",
        "\n",
        "\n",
        "And a inverse matrix $A^{-1}$ of $A$ is a matrix that multiplied with $A$ is equal to the inverse matrix $I$.\n",
        "\n",
        "\n",
        "$$ A \\cdot A^{-1} =  A^{-1} \\cdot A = I $$\n",
        "\n",
        "\n",
        "Finding an inverse matrix for matrix A in np is done with the function `inv_A = np.linalg.inv(A)`, in case the determinant of $A$ is $0$, $A$ does not have a inverse matrix and then $A$ is called a singular matrix. Calling `inv_A = np.linalg.inv(A)` on a singular matrix will result in throwing `np.linalg.LinAlgError` exception. This behavior results in two possible options, first, before calling `inv_A = np.linalg.inv(A)` check if the determinant is 0 or second, handle the exception `np.linalg.LinAlgError`.\n",
        "\n",
        "\n",
        "Case one:\n",
        "```\n",
        "det_A = np.linalg.det(A)\n",
        "if det_A == 0:\n",
        " print(\"Matrix A is singular\")\n",
        "else:\n",
        " A_inv = np.linalg.inv(A)\n",
        " print(\"Inverse Matrix of a A is\")\n",
        " print(A_inv)\n",
        "```\n",
        "\n",
        "\n",
        "Case two:\n",
        "```\n",
        "try:\n",
        " # Step 3: Compute the inverse of A\n",
        " A_inv = np.linalg.inv(A)\n",
        " print(\"Inverse Matrix of a A is\")\n",
        " print(A_inv)\n",
        "except np.linalg.LinAlgError:\n",
        "   print(\"Matrix A is singular\")\n",
        "```\n",
        "\n",
        "\n",
        "**Examples**:\n",
        "1. Create identity matrix `I` with size 5\n",
        "2. Create random not zero matrix `A` with shape `[5,5]` and find the inverse, `A_inv` of `A`.\n",
        "3. Verify that `A*A_inv` is equal to the identity\n",
        "**Use `np.round(A, 3)` to round the elements of the matrices to 3 decimals**\n"
      ]
    },
    {
      "cell_type": "code",
      "execution_count": 27,
      "metadata": {
        "colab": {
          "base_uri": "https://localhost:8080/"
        },
        "id": "DvcECJgBDF-x",
        "outputId": "764b9998-4da8-4431-e501-2bc73a8733ed"
      },
      "outputs": [
        {
          "name": "stdout",
          "output_type": "stream",
          "text": [
            "Identity matrix I:\n",
            "[[1. 0. 0. 0. 0.]\n",
            " [0. 1. 0. 0. 0.]\n",
            " [0. 0. 1. 0. 0.]\n",
            " [0. 0. 0. 1. 0.]\n",
            " [0. 0. 0. 0. 1.]]\n",
            "\n",
            "Random non-zero matrix A:\n",
            "[[0.481 0.828 0.064 0.3   0.587]\n",
            " [0.2   0.235 0.899 0.305 0.437]\n",
            " [0.475 0.524 0.937 0.805 0.368]\n",
            " [0.499 0.36  0.953 0.132 0.246]\n",
            " [0.782 0.498 0.371 0.182 0.081]]\n",
            "\n",
            "Inverse of matrix A (A_inv):\n",
            "[[-1.113  4.391 -1.57  -4.287  4.53 ]\n",
            " [ 2.029 -7.217  1.986  6.594 -4.816]\n",
            " [-0.12  -1.314  0.467  2.38  -1.392]\n",
            " [-0.545  0.733  1.368 -2.306  0.789]\n",
            " [ 0.045  6.351 -2.265 -4.87   2.831]]\n",
            "\n",
            "Product of A and A_inv (should be close to identity matrix):\n",
            "[[ 1.  0. -0. -0.  0.]\n",
            " [-0.  1. -0.  0.  0.]\n",
            " [-0.  0.  1.  0.  0.]\n",
            " [-0. -0. -0.  1.  0.]\n",
            " [ 0.  0.  0.  0.  1.]]\n",
            "\n"
          ]
        }
      ],
      "source": [
        "import numpy as np\n",
        "\n",
        "def create_random_square_matrix(size):\n",
        "  A = np.random.rand(size, size)\n",
        "  while np.linalg.det(A) == 0:\n",
        "    A = np.random.rand(size, size)\n",
        "  # returns the matrix only if the determinant is different than 0\n",
        "  return A\n",
        "\n",
        "# Example 1: Create an identity matrix I with size 5\n",
        "I = np.eye(5)\n",
        "print(\"Identity matrix I:\")\n",
        "print(I)\n",
        "print()\n",
        "\n",
        "# Example 1: Create a random non-zero matrix A with shape [5, 5]\n",
        "A = np.round(create_random_square_matrix(5),3)\n",
        "\n",
        "# Example 2: Find the inverse of A (A_inv)\n",
        "A_inv = np.round(np.linalg.inv(A),3)\n",
        "print(\"Random non-zero matrix A:\")\n",
        "print(A)\n",
        "print(\"\\nInverse of matrix A (A_inv):\")\n",
        "print(A_inv)\n",
        "print()\n",
        "\n",
        "# Example 3: Verify that A * A_inv is equal to the identity matrix\n",
        "A_times_A_inv = np.round(np.dot(A, A_inv))\n",
        "print(\"Product of A and A_inv (should be close to identity matrix):\")\n",
        "print(A_times_A_inv)\n",
        "print()\n"
      ]
    },
    {
      "cell_type": "markdown",
      "metadata": {
        "id": "d0QzUlVDDgHT"
      },
      "source": [
        "### Eigenvalue and Eigenvectors of a matrix\n",
        "\n",
        "\n",
        "Given a matrix $M$, vector $\\vec{\\mathbf{v}} \\ne \\mathbf{0}$ and scalar $\\lambda$ that satisfy the equation $M \\vec{\\mathbf{v}} = \\lambda \\vec{\\mathbf{v}}$. Then $\\lambda$  is called eigenvalue  of the matrix $M$ and and $\\vec{\\mathbf{v}}$ is called eigenvector of the matrix $M$ corespondimg to the eigenvalue $\\lambda$.\n",
        "\n",
        "*Interpretation:\n",
        "Actually, $\\lambda$ and $\\vec{\\mathbf{v}}$ are such that the scalar multiple $\\lambda \\vec{\\mathbf{v}}$ and the matrix multiple $M\\vec{\\mathbf{v}}$ are one and same vector. In other words, the linear transformation $f(\\vec{\\mathbf{v}})=M\\vec{\\mathbf{v}}$ maps the vector $ \\vec{\\mathbf{v}}$ in its collinear vector $\\lambda \\vec{\\mathbf{v}}$. It means that the direction defined by $\\vec{\\mathbf{v}}$ is invariant under the linear mapping $f$.*\n",
        "\n",
        "\n",
        "`Numpy` offers an elegant option to calculate the Eigenvalue and the associated Eigenvectors to the value.\n",
        "\n",
        "\n",
        "**Example**: Given a matrix `[[1 2 3][4 5 6][7 8 9]]`, find the Eigenvalues and the corresponding Eigenvectors"
      ]
    },
    {
      "cell_type": "code",
      "execution_count": 28,
      "metadata": {
        "colab": {
          "base_uri": "https://localhost:8080/"
        },
        "id": "YJxdom5uV9Re",
        "outputId": "9e405bc5-1597-4296-fcf9-18e5a3c6cbb4"
      },
      "outputs": [
        {
          "name": "stdout",
          "output_type": "stream",
          "text": [
            "The eigenvalue 16.116843969807043 has the appropriate eigenvectors [[-0.23197069 -0.78583024  0.40824829]\n",
            " [-0.52532209 -0.08675134 -0.81649658]\n",
            " [-0.8186735   0.61232756  0.40824829]]\n",
            "The eigenvalue -1.1168439698070427 has the appropriate eigenvectors [[-0.23197069 -0.78583024  0.40824829]\n",
            " [-0.52532209 -0.08675134 -0.81649658]\n",
            " [-0.8186735   0.61232756  0.40824829]]\n",
            "The eigenvalue -1.3036777264747022e-15 has the appropriate eigenvectors [[-0.23197069 -0.78583024  0.40824829]\n",
            " [-0.52532209 -0.08675134 -0.81649658]\n",
            " [-0.8186735   0.61232756  0.40824829]]\n"
          ]
        }
      ],
      "source": [
        "import numpy as np\n",
        "\n",
        "A = np.array([[1, 2, 3],[4, 5, 6],[7, 8, 9]])\n",
        "\n",
        "eigenvalues, eigenvectors = np.linalg.eig(A)\n",
        "\n",
        "# iterates the elements in eigenvalues, where index and eigenvalue are the\n",
        "# index and the appropriate value in every iteration\n",
        "for index, eigenvalue in enumerate(eigenvalues):\n",
        "  print(f\"The eigenvalue {eigenvalue} has the appropriate eigenvectors {eigenvectors}\")\n"
      ]
    },
    {
      "cell_type": "markdown",
      "metadata": {
        "id": "yCT5xfuvVPNV"
      },
      "source": [
        "### Solving equations\n",
        "\n",
        "\n",
        "A system of linear equations can be represented with matrices in the following form $A*X=B$.\n",
        "\n",
        "In mathematics there are multiple ways of solving a system.\n",
        "Python uses `numpy.linalg.solve(A,B)`\n",
        "\n",
        "**Examples**:\n",
        "1. Solve the system A*X = B where `A =[[2, 3, 1],[4, 1, 2],[3, 2, 3]]`\n",
        "and `B = [1, 2, 3]` and verify the result\n",
        "2. Solve the system A*X = B where `A = [[1,3,-2],[3,-2,-1]]` and `B=[1,-4]`"
      ]
    },
    {
      "cell_type": "code",
      "execution_count": 29,
      "metadata": {
        "colab": {
          "base_uri": "https://localhost:8080/",
          "height": 400
        },
        "id": "p2XdVmVlW6PE",
        "outputId": "fd82153c-bb4e-499a-c960-c3652dd21abb"
      },
      "outputs": [
        {
          "name": "stdout",
          "output_type": "stream",
          "text": [
            "X = [0. 0. 1.]\n",
            "A*X = [1. 2. 3.]\n"
          ]
        },
        {
          "ename": "LinAlgError",
          "evalue": "Last 2 dimensions of the array must be square",
          "output_type": "error",
          "traceback": [
            "\u001b[0;31m---------------------------------------------------------------------------\u001b[0m",
            "\u001b[0;31mLinAlgError\u001b[0m                               Traceback (most recent call last)",
            "Cell \u001b[0;32mIn[29], line 19\u001b[0m\n\u001b[1;32m     16\u001b[0m A \u001b[38;5;241m=\u001b[39m np\u001b[38;5;241m.\u001b[39marray([[\u001b[38;5;241m1\u001b[39m,\u001b[38;5;241m3\u001b[39m,\u001b[38;5;241m-\u001b[39m\u001b[38;5;241m2\u001b[39m,\u001b[38;5;241m1\u001b[39m],[\u001b[38;5;241m3\u001b[39m,\u001b[38;5;241m-\u001b[39m\u001b[38;5;241m2\u001b[39m,\u001b[38;5;241m-\u001b[39m\u001b[38;5;241m1\u001b[39m,\u001b[38;5;241m-\u001b[39m\u001b[38;5;241m4\u001b[39m]])\n\u001b[1;32m     17\u001b[0m B \u001b[38;5;241m=\u001b[39m np\u001b[38;5;241m.\u001b[39marray([\u001b[38;5;241m1\u001b[39m, \u001b[38;5;241m-\u001b[39m\u001b[38;5;241m4\u001b[39m])\n\u001b[0;32m---> 19\u001b[0m X \u001b[38;5;241m=\u001b[39m np\u001b[38;5;241m.\u001b[39mlinalg\u001b[38;5;241m.\u001b[39msolve(A,B)\n",
            "File \u001b[0;32m/opt/anaconda3/lib/python3.12/site-packages/numpy/linalg/linalg.py:396\u001b[0m, in \u001b[0;36msolve\u001b[0;34m(a, b)\u001b[0m\n\u001b[1;32m    394\u001b[0m a, _ \u001b[38;5;241m=\u001b[39m _makearray(a)\n\u001b[1;32m    395\u001b[0m _assert_stacked_2d(a)\n\u001b[0;32m--> 396\u001b[0m _assert_stacked_square(a)\n\u001b[1;32m    397\u001b[0m b, wrap \u001b[38;5;241m=\u001b[39m _makearray(b)\n\u001b[1;32m    398\u001b[0m t, result_t \u001b[38;5;241m=\u001b[39m _commonType(a, b)\n",
            "File \u001b[0;32m/opt/anaconda3/lib/python3.12/site-packages/numpy/linalg/linalg.py:213\u001b[0m, in \u001b[0;36m_assert_stacked_square\u001b[0;34m(*arrays)\u001b[0m\n\u001b[1;32m    211\u001b[0m m, n \u001b[38;5;241m=\u001b[39m a\u001b[38;5;241m.\u001b[39mshape[\u001b[38;5;241m-\u001b[39m\u001b[38;5;241m2\u001b[39m:]\n\u001b[1;32m    212\u001b[0m \u001b[38;5;28;01mif\u001b[39;00m m \u001b[38;5;241m!=\u001b[39m n:\n\u001b[0;32m--> 213\u001b[0m     \u001b[38;5;28;01mraise\u001b[39;00m LinAlgError(\u001b[38;5;124m'\u001b[39m\u001b[38;5;124mLast 2 dimensions of the array must be square\u001b[39m\u001b[38;5;124m'\u001b[39m)\n",
            "\u001b[0;31mLinAlgError\u001b[0m: Last 2 dimensions of the array must be square"
          ]
        }
      ],
      "source": [
        "import numpy as np\n",
        "\n",
        "# Example 1\n",
        "A = np.array([[2, 3, 1],\n",
        "              [4, 1, 2],\n",
        "              [3, 2, 3]])\n",
        "\n",
        "B = np.array([1, 2, 3])\n",
        "X = np.linalg.solve(A,B)\n",
        "\n",
        "print(f\"X = {X}\")\n",
        "print(f\"A*X = {np.dot(A,X)}\")\n",
        "\n",
        "# Example 2\n",
        "\n",
        "A = np.array([[1,3,-2,1],[3,-2,-1,-4]])\n",
        "B = np.array([1, -4])\n",
        "\n",
        "X = np.linalg.solve(A,B)\n",
        "\n",
        "\n"
      ]
    },
    {
      "cell_type": "markdown",
      "metadata": {
        "id": "GchjhxzwcAhj"
      },
      "source": [
        "\n",
        "The system `A*x = B` where `A = [[1,3,-2],[3,-2,-1]]` and `B=[1,-4]` from the last example cannot be solved with `np.linalg.solve(A, B)`. This is because `np.linalg.solve` expects a square matrix. The solution for this kind of system is not automated. To solve this system, the Gaussian Elimination method can be used. The `custom_pivot_column` function from the next section of exercises can be used to transform a specified column of a matrix such that all elements in that column are zero except for the chosen pivot element, which is set to one."
      ]
    },
    {
      "cell_type": "markdown",
      "metadata": {
        "id": "zLygSh5A7LNZ"
      },
      "source": [
        "### Excesisis with np"
      ]
    },
    {
      "cell_type": "code",
      "execution_count": null,
      "metadata": {
        "colab": {
          "base_uri": "https://localhost:8080/"
        },
        "id": "hHnHLu9PbUPz",
        "outputId": "8801452f-3055-4130-e1e6-ac3eae153f92"
      },
      "outputs": [
        {
          "name": "stdout",
          "output_type": "stream",
          "text": [
            "[5 5 5 5 5 5 5 5 5 5]\n",
            "[1, 2, 3, 4]\n",
            "Matrix with the new row:\n",
            "[[1 2 3]\n",
            " [4 5 6]\n",
            " [7 8 9]]\n",
            "num_rows, num_cols = (3,3)\n",
            "[[2 3]\n",
            " [5 6]]\n",
            "[[ 1  2  3  4]\n",
            " [ 6  7  8  9]\n",
            " [11 12 13 14]]\n",
            "[[ 1  2  3  4]\n",
            " [ 6  7  8  9]\n",
            " [11 12 13 14]]\n",
            "submatrix1 = [[ 1  2  3]\n",
            " [ 6  7  8]\n",
            " [11 12 13]] submatrix2 = [[ 4  5]\n",
            " [ 9 10]\n",
            " [14 15]]\n",
            "sum of a =[1 2 3 4 5] and b = [3 0 3 4 1] is [4 2 6 8 6]\n",
            "inverce of: \n",
            "[[1 2]\n",
            " [5 6]]\n",
            "is: \n",
            "[[-1.5   0.5 ]\n",
            " [ 1.25 -0.25]]\n",
            "inverce of: \n",
            "-3.999999999999999\n"
          ]
        }
      ],
      "source": [
        "import numpy as np\n",
        "\n",
        "# E. Create an array with size 10, filled with the number 5\n",
        "array = np.full(10, 5)\n",
        "print(array)\n",
        "\n",
        "# E. add additional 5 zeros to the end of the array\n",
        "array = [1,2,3,4]\n",
        "np.concatenate((array, np.full(5, 0)))\n",
        "print(array)\n",
        "\n",
        "# E. Add a row to matrix\n",
        "matrix = np.array([[1, 2, 3],\n",
        "                   [4, 5, 6]])\n",
        "new_row = np.array([7, 8, 9])\n",
        "matrix_with_new_row = np.vstack((matrix, new_row))\n",
        "print(\"Matrix with the new row:\")\n",
        "print(matrix_with_new_row)\n",
        "\n",
        "# E. Get the number of rows and number of columns of a matrix\n",
        "matrix = np.array([[1, 2, 3],\n",
        "                   [4, 5, 6],\n",
        "                   [7, 8, 9]])\n",
        "\n",
        "# Get the number of rows and columns of the matrix\n",
        "num_rows, num_cols = matrix.shape\n",
        "\n",
        "print(f\"num_rows, num_cols = ({num_rows},{num_cols})\")\n",
        "\n",
        "\n",
        "# E. Create sub matrix from a given matrix\n",
        "matrix = np.array([[1, 2, 3],\n",
        "                   [4, 5, 6],\n",
        "                   [7, 8, 9]])\n",
        "\n",
        "# Get a sub-matrix from the original matrix\n",
        "# Define the row and column indices of the sub-matrix\n",
        "start_row = 0\n",
        "end_row = 2  # Note: End index is exclusive, so it will include rows up to end_row - 1\n",
        "start_col = 1\n",
        "end_col = 3  # Note: End index is exclusive, so it will include columns up to end_col - 1\n",
        "\n",
        "# Extract the submatrix using slicing\n",
        "sub_matrix = matrix[start_row:end_row, start_col:end_col]\n",
        "\n",
        "print(sub_matrix)\n",
        "\n",
        "# E. From matrix A create matrix B that has the same rows but only the first 4 columns\n",
        "matrix = np.array([[1, 2, 3, 4, 5],\n",
        "                   [6,7,8,9,10],\n",
        "                   [11, 12, 13,14,15]])\n",
        "sub_matrix = matrix[0:,0:4]\n",
        "print(sub_matrix)\n",
        "\n",
        "\n",
        "# E. From matrix A create matrix B that contains all rows except\n",
        "# the first one contains the first 4 columns\n",
        "matrix = np.array([[1, 2, 3, 4, 5],\n",
        "                   [6,7,8,9,10],\n",
        "                   [11, 12, 13,14,15]])\n",
        "sub_matrix = matrix[0:,0:4]\n",
        "print(sub_matrix)\n",
        "\n",
        "# E. Split the matrix A in to two sub matrixes vertically, so that all rows\n",
        "# from index 0 to 3 will be part of the first sub matrix and all rows from\n",
        "# index 4 to the end wil lbe part of the second matrix\n",
        "# the first one contains the first 4 columns\n",
        "matrix = np.array([[1, 2, 3, 4, 5],\n",
        "                   [6,7,8,9,10],\n",
        "                   [11, 12, 13,14,15]])\n",
        "\n",
        "sub_matrix1 = matrix[0:,0:3]\n",
        "sub_matrix2 = matrix[0:,3:]\n",
        "\n",
        "# todo reformat\n",
        "print(f\"sub_matrix1 = {sub_matrix1}, sub_matrix2 = {sub_matrix2}\")\n",
        "\n",
        "\n",
        "# OPERATIONS WITH VECTORS\n",
        "\n",
        "# E. Vector addition, Sum the two vectors A = (1, 2, 3, 4, 5) and B = (3, 0, 3, 4, 1)\n",
        "a = np.array([1, 2, 3, 4, 5])\n",
        "b = np.array([3, 0, 3, 4, 1])\n",
        "c = a + b\n",
        "print(f\"sum of a ={a} and b = {b} is {c}\")\n",
        "\n",
        "\n",
        "# E. Inverse matrix, create an inverse matrix for a given matrix A = ([1,2],[5,6])\n",
        "\n",
        "a = np.array([[1,2],[5,6]])\n",
        "print(\"Inverse of: \")\n",
        "print(a)\n",
        "print(\"is: \")\n",
        "A_inverse = np.linalg.inv(a)\n",
        "print(A_inverse)\n",
        "\n",
        "# E. Inverse matrix, create an inverse matrix for a give matrix A = ([1,2],[5,6]) manually\n",
        "print(\"Inverse of: \")\n",
        "print(np.linalg.det(a))"
      ]
    },
    {
      "cell_type": "code",
      "execution_count": null,
      "metadata": {
        "colab": {
          "base_uri": "https://localhost:8080/"
        },
        "id": "Prsv_eflIhPd",
        "outputId": "054d2425-2e38-4620-c8bf-56009d51c760"
      },
      "outputs": [
        {
          "name": "stdout",
          "output_type": "stream",
          "text": [
            "Matrix([[7/4, 0, 13/4], [3/4, 1, 5/4], [-3/2, 0, 11/2]])\n",
            "Matrix([[1, -1, 2], [0, 7, -1], [0, 2, 8]])\n"
          ]
        }
      ],
      "source": [
        "#  Pivoting\n",
        "\n",
        "# In a matrix, pick an element and using linear transformations,\n",
        "# (multiplying a row with a scalar row and adding it to a different one)\n",
        "# transform the matrix so that the picked element will be transformed to one and\n",
        "# all the elements of the matrix in the column of the picked element will be equal\n",
        "# to 0\n",
        "import numpy as np\n",
        "from sympy import Matrix\n",
        "\n",
        "def custom_pivot_column(matrix, pivot_row, pivot_col):\n",
        "    # Convert the matrix to a NumPy array for easier manipulation\n",
        "    np_matrix = np.array(matrix)\n",
        "\n",
        "    # Divide the pivot row by the pivot element to make it 1\n",
        "    pivot_element = np_matrix[pivot_row, pivot_col]\n",
        "    np_matrix[pivot_row, :] /= pivot_element\n",
        "\n",
        "    # Eliminate other elements in the same column\n",
        "    num_rows = np_matrix.shape[0]\n",
        "    for i in range(num_rows):\n",
        "        if i != pivot_row:\n",
        "            ratio = np_matrix[i, pivot_col]\n",
        "            np_matrix[i, :] -= ratio * np_matrix[pivot_row, :]\n",
        "\n",
        "\n",
        "    # Convert the modified NumPy array back to a SymPy Matrix\n",
        "    pivoted_matrix = Matrix(np_matrix)\n",
        "\n",
        "    return pivoted_matrix\n",
        "\n",
        "m = Matrix([\n",
        "    [1, -1, 2],\n",
        "    [3, 4, 5],\n",
        "    [0, 2, 8]])\n",
        "\n",
        "print(custom_pivot_column(m, 1,1))\n",
        "print(custom_pivot_column(m, 0,0))\n",
        "\n",
        "\n"
      ]
    },
    {
      "cell_type": "code",
      "execution_count": null,
      "metadata": {
        "id": "DGZQdYnJIUry"
      },
      "outputs": [],
      "source": []
    },
    {
      "cell_type": "markdown",
      "metadata": {
        "id": "vV93Sy43gIdz"
      },
      "source": [
        "## Approximations algorithms and the `scipy.optimize` library\n"
      ]
    },
    {
      "cell_type": "markdown",
      "metadata": {
        "id": "jaam8C1aZ7WY"
      },
      "source": [
        "The following sections of this seminar-work describe different methods used for finding an extreme or a root of a mathematical function. By convention this function will be called an **objective function**.\n",
        "\n",
        "**In the following text and code examples, the numerical methods or optimization methods are referred to as approximation methods and their results as approximations.**\n",
        "\n",
        "**The methods will be explained for the optimization problem of minimum. In case the maximum of objective function $f(x_1, x_2, ... x_n)$ is required, it will be converted to the problem of minimum of $- f(x_1, x_2, ... x_n)$.**\n",
        "\n",
        "All optimization algorithms start with initial list of values called approximations. The initial values are stored in a problem-specific data structure using a variable called approximations.\n",
        "\n",
        "All optimization algorithms are iterative; they define an algorithm-specific step function. This function is called on the approximations variable and returns a new approximation. All algorithms iteratively call the step function on the approximations variable until a certain condition (stopping criterion) is satisfied.\n",
        "\n",
        "The general form of an optimization algorithm is presented as follows:\n",
        "```\n",
        "\n",
        "def approximations = []\n",
        "\n",
        "def step_function(approximations:list[float]):\n",
        " ... <!- calculates a new approximation>\n",
        " return approximation\n",
        "\n",
        "def stop_criterion(approximations:list[float]):\n",
        "  ...\n",
        "  return <!-- returns true or false -->\n",
        "\n",
        "def approximation_method(approximations_in, step_function_in, stop_criterion_in)->list[float]\n",
        "  while(not stop_criterion_in(approximations[-1])):\n",
        "    approximation = step_function_in(approximations)\n",
        "    approximations_in.append(approximation)\n",
        "  return approximations_in    \n",
        "```\n",
        "\n",
        "The general solution uses an approximations stack/array to store all the results from the step function. This is not required but is useful for learning and debugging purposes. For example, investigating intermediate approximations by printing or visualizing and plotting them.\n",
        "\n",
        "In Python, the library `scipy` from the package `optimize` can be used to find an approximation to an extreme or a root of a function.\n",
        "In the following text, I will implement different approximation methods and also provide the appropriate python function from `scipy.optimize`."
      ]
    },
    {
      "cell_type": "markdown",
      "metadata": {
        "id": "h4G88edw23Yi"
      },
      "source": [
        "### Golder Search\n",
        "\n",
        "\n",
        "\n",
        "Golden search method is applicable for a function $F: \\mathbb{R} \\to \\mathbb{R}$ on a closed interval $[a_0, b_0]$ when $F(x)$ has only one minimum under the closed interval. The algorithm works in a way that for every step requires a list of four values for $x$:\n",
        "\n",
        "$[a_0, a_1, b_1, b_0]$ so that $a_0 < a_1 < b_1 < b_0$ and $a_1 - a_0 = b_0 - b_1 = p \\cdot (b_0 - a_0)$ and $p < \\frac{1}{2}$.\n",
        "\n",
        "Then it analyzes the function $F(x)$ at these four values. Depending on whether $F(a_1) > F(b_1)$ or $F(a_1) < F(b_1)$, the minimum will be located in $[a_0, b_1]$ or in $[a_1, b_0]$. For the two intervals $[a_0, b_1]$ and $[a_1, b_0]$, three values of $F(x)$ are already known or previously calculated: $F(a_0), F(a_1), F(b_1)$ for $[a_0, b_1]$ and $F(a_1), F(b_1), F(b_0)$ for $[a_1, b_0]$. In order to again analyze $F$ for a minimum under the new reduced interval, a new value for $x$ needs to be picked. $x$ is picked using the following optimization:\n",
        "\n",
        "\n",
        "\n",
        "$x = a_0 + |a_0 - b_1| \\cdot p$ for $[a_0, a_1, b_1]$ resulting in a new input list of four values for $x$: $[a_0, x, a_1, b_1]$ where $x - a_0 = b_1 - a_1$.\n",
        "\n",
        "\n",
        "or\n",
        "\n",
        "$x = b_0 - |a_1 - b_0| \\cdot p$ for $[a_1, b_1, b_0]$ resulting in a new input list of four values for $x$: $[a_1, b_1, x, b_0]$ where $b_1 - a_1 = b_0 - x$.\n",
        "\n",
        "The scalar `p` in the golden search algorithm is optimized and in every step is equal to:\n",
        "\n",
        "$$p = \\frac{3 - \\sqrt{5}}{2} \\approx 0.382 $$\n",
        "\n",
        "The described process is repeated with the new four values for $x$, until the <range/interval> is at the required size.\n",
        "\n",
        "The N-th step reduces the range(uncertainty interval) by factor:\n",
        "\n",
        "$(1 - p)^N = (0.61803)^N$\n",
        "\n",
        "\n",
        "**Example**:\n",
        "1. Use the the golden search to find the value of x that minimizes the function:\n",
        "$f(x) = x^4 - 14x^3 + 60x^2 + 70x$\n",
        "2. Use the the golden search `minimize_scalar(f, method='golden')` from the library `scipy`, package `scipy.optimize` to find the local minimum of the function\n",
        "\n",
        "$f(x) = x^4 - 14x^3 + 60x^2 + 70x$\n"
      ]
    },
    {
      "cell_type": "code",
      "execution_count": null,
      "metadata": {
        "colab": {
          "base_uri": "https://localhost:8080/",
          "height": 465
        },
        "id": "lBnqD4Tn6i3E",
        "outputId": "37732e5a-b7d1-4277-8b4e-90091e687d75"
      },
      "outputs": [
        {
          "name": "stdout",
          "output_type": "stream",
          "text": [
            "The minimizer using the manualy developed algoritham is equal to X= -0.49395485895564095\n",
            "The minimizer using the minimize_scalar algoritham is equal to X= -0.4939286751012236\n"
          ]
        },
        {
          "data": {
            "image/png": "[encoded data removed]",
            "text/plain": [
              "<Figure size 640x480 with 1 Axes>"
            ]
          },
          "metadata": {},
          "output_type": "display_data"
        }
      ],
      "source": [
        "# tutorial: https://realpython.com/python-data-structures/\n",
        "\n",
        "#Example 1\n",
        "\n",
        "def F(x_in):\n",
        "  return x_in**4-14*x_in**3+60*x_in**2+70*x_in\n",
        "\n",
        "# Approx, Approximations class holds tha values for x_in and calculates f_in for x_in\n",
        "class Approx:\n",
        " def __init__(self, x_in, f_in):\n",
        "  self.x = x_in\n",
        "  self._f_x = None\n",
        "  self.f = f_in\n",
        " # Lazily calculates f_in at execution time and stores, for reuse\n",
        " @property\n",
        " def f_x(self):\n",
        "    if(self._f_x == None):\n",
        "      self._f_x = self.f(self.x)\n",
        "    return self._f_x\n",
        "\n",
        "# gives the range reduction for two Approximations\n",
        "def range_reduction(a_in:Approx, b_in:Approx):\n",
        "  p = 0.382\n",
        "  return p*abs(a_in.x-b_in.x)\n",
        "\n",
        "a0 = Approx(-2, F)\n",
        "b0 = Approx(2, F)\n",
        "a1 = Approx(a0.x + range_reduction(a0, b0), F)\n",
        "b1 = Approx(b0.x - range_reduction(a0, b0), F)\n",
        "\n",
        "x_approximations = []\n",
        "x_approximations.append((a0, a1, b1, b0))\n",
        "\n",
        "a0, a1, b1, b0  = x_approximations[-1]\n",
        "\n",
        "\n",
        "def golden_search_minimizer_step_function(f_in, approximations_in):\n",
        "  a0, a1, b1, b0 = approximations_in[-1]\n",
        "  if(a1.f_x < b1.f_x):\n",
        "    return (a0, Approx(a0.x + range_reduction(a0,b1), f_in), a1 ,b1)\n",
        "  else:\n",
        "    return (a1, b1, Approx(b0.x - range_reduction(a1,b0), f_in) ,b0)\n",
        "\n",
        "def golden_search_stop_criterion(approximations_in):\n",
        "  a0 = approximations_in[-1][0]\n",
        "  b0 = approximations_in[-1][3]\n",
        "  return b0.x - a0.x<0.0001\n",
        "\n",
        "def golder_search_method(approximations_in, f_in):\n",
        "  while(not golden_search_stop_criterion(approximations_in)):\n",
        "    current_approx = golden_search_minimizer_step_function(f_in, approximations_in)\n",
        "    approximations_in.append(current_approx)\n",
        "  return approximations_in\n",
        "\n",
        "x_approximations = golder_search_method(x_approximations, F)\n",
        "\n",
        "print(f\"The minimizer using the manually developed algorithm is equal to X= {x_approximations[-1][1].x}\")\n",
        "\n",
        "# Plot\n",
        "import matplotlib.pyplot as plt\n",
        "import numpy as np\n",
        "import matplotlib.colors as mcolors\n",
        "\n",
        "x = np.arange(-2, +0.5, 0.01)\n",
        "a0_list = [item[0] for item in x_approximations]\n",
        "b0_list = [item[3] for item in x_approximations]\n",
        "plt.plot(x,F(x))\n",
        "c = 0;\n",
        "for i in x_approximations:\n",
        "  plt.scatter(i[0].x, 0, s=len(x_approximations) - c)\n",
        "  plt.scatter(i[0].x, i[0].f_x, s=len(x_approximations) - c)\n",
        "  c = c+1;\n",
        "plt.grid()\n",
        "\n",
        "#Example 2\n",
        "from scipy.optimize import minimize_scalar\n",
        "minimizer_python = minimize_scalar(F, method='golden')\n",
        "print(f\"The minimizer using the minimize_scalar algorithm is equal to X= {minimizer_python.x}\")"
      ]
    },
    {
      "cell_type": "markdown",
      "metadata": {
        "id": "QCi0ppMlC8CO"
      },
      "source": [
        "### Newton's Method\n",
        "The Newton method for minimizing a function $f(x)$ requires that the first derivative $f'(x)$ and the second derivative $f''(x)$ are known and also $f(x)$, $f'(x)$, $f''(x)$ can be calculated.\n",
        "\n",
        "It is given by the iterative formula:\n",
        "$$\n",
        "x_{k+1} = x_k - \\frac{f'(x_k)}{f''(x_k)}\n",
        "$$\n",
        "\n",
        "*Interpretation:\n",
        " The Newton method uses a Taylor series function $q(x)$ to approximate the objective function at every $x_k$ value. By solving $q'(x)=0$ or $f'(x_k) + f''(x_k)*(x-x_k)=0$ it finds the local extreme of the function $q(x)$. This solution $x_k+1$ is the new approximation, and the step is repeated until some stop condition is reached*"
      ]
    },
    {
      "cell_type": "markdown",
      "metadata": {
        "id": "JkVPphaoLssm"
      },
      "source": [
        "**Example**:\n",
        "1. Manually find the minimizer of $f(x) = \\frac{1}{2}x^2 - \\sin(x)$ given the derivatives $f'(x) = x - \\cos(x)$ and $f''(x) = 1 + \\sin(x)$\n",
        "2. Use the `scipy.optimize.newton` to find the minimizer of $f(x) = \\frac{1}{2}x^2 - \\sin(x)$ given the derivatives $f'(x) = x - \\cos(x)$ and $f''(x) = 1 + \\sin(x)\n"
      ]
    },
    {
      "cell_type": "markdown",
      "metadata": {
        "id": "chcNFdGlTdaW"
      },
      "source": [
        "In the following code, several improvements will be implemented:\n",
        "\n",
        "\n",
        "1. All of the optimization methods are iterative, they call a specific step function until a certain stop_criterion is reached. This behavior will be generalized in the `general_approximation_iterator` Python function.\n",
        "\n",
        "2. The approximation method-specific step function will be generated from a different specific approximation method builder function and will be only dependent on the approximations list.\n",
        "\n",
        "3. The approximation method-specific stop criterion function will be generated from a different specific approximation method builder function and will be only dependent on the approximations list.\n",
        "\n",
        "These changes will contribute to more flexibility in creating the approximation methods. Will alow combining, and reusing the methods."
      ]
    },
    {
      "cell_type": "code",
      "execution_count": null,
      "metadata": {
        "colab": {
          "base_uri": "https://localhost:8080/"
        },
        "id": "JQEbIUnOLr5g",
        "outputId": "853a59fa-ab8a-4baa-cc1a-4a3839bf2e90"
      },
      "outputs": [
        {
          "name": "stdout",
          "output_type": "stream",
          "text": [
            "Minimizer calculated manualy X=0.7390851332151607\n",
            "Minimizer calculated with scipy.optimize.newton X=0.7390851332151601\n"
          ]
        }
      ],
      "source": [
        "import numpy as np\n",
        "\n",
        "\n",
        "# As all of the approximation methods will have the same interface a\n",
        "# a general function can be created that can take any starting values, any method\n",
        "# specific step function and any stop criterion function\n",
        "# and generate a approximation method\n",
        "def general_approximation_iterator(approximations_in, stepfunction_in, stop_criterion_in):\n",
        " while(not stop_criterion_in(approximations_in)):\n",
        "   approx = stepfunction_in(approximations_in)\n",
        "   approximations_in.append(approx)\n",
        " return approximations_in\n",
        "\n",
        "\n",
        "# Example. 1\n",
        "def f_derivative_1(x_in):\n",
        " return x_in - np.cos(x_in)\n",
        "\n",
        "\n",
        "def f_derivative_2(x_in):\n",
        " return 1 + np.sin(x_in)\n",
        "\n",
        "\n",
        "x_approximations = []\n",
        "x_approximations.append(0.5)\n",
        "\n",
        "\n",
        "def step_newtons_method_builder(f_dv_1_in, f_dv_2_in):\n",
        " def step_function(approximations_in):\n",
        "   der1 = f_dv_1_in(approximations_in[-1])\n",
        "   der2 = f_dv_2_in(approximations_in[-1])\n",
        "   return approximations_in[-1] - der1/der2\n",
        " return step_function\n",
        "\n",
        "\n",
        "def stop_criterion_relative_step(accuracy_in: float):\n",
        " def stop_function(approximations_in):\n",
        "   if(len(approximations_in)>=2):\n",
        "     step_size = abs((approximations_in[-1]-approximations_in[-2])/approximations_in[-1])\n",
        "     return step_size<accuracy_in\n",
        "   return False\n",
        " return stop_function\n",
        "\n",
        "\n",
        "def newtons_method(approximations_in, step_function_in, stop_criterion_in):\n",
        " return general_approximation_iterator(approximations_in, step_function_in, stop_criterion_in)\n",
        "\n",
        "\n",
        "step_newtons_method = step_newtons_method_builder(f_derivative_1, f_derivative_2)\n",
        "accuracy = 0.0000001\n",
        "stop_newtons_method = stop_criterion_relative_step(accuracy)\n",
        "\n",
        "\n",
        "x_approximations = newtons_method(x_approximations, step_newtons_method, stop_newtons_method)\n",
        "print(f\"Minimizer calculated manually X={x_approximations[-1]}\")\n",
        "\n",
        "\n",
        "# Example. 2\n",
        "from scipy.optimize import newton\n",
        "root_newton = newton(f_derivative_1, x0=0.5)\n",
        "print(f\"Minimizer calculated with scipy.optimize.newton X={root_newton}\")\n"
      ]
    },
    {
      "cell_type": "markdown",
      "metadata": {
        "id": "wN6WGUmddITP"
      },
      "source": [
        "Since a function $f(x)$ has the extreme at the same point where $f'(x)$ has value 0. With small modification the Newton's method can be also used for finding the root of the function $g(x)=f'(x)$.\n",
        "This is the iterative formula for finding a root of a function $g(x)$:\n",
        "$$\n",
        "x_{k+1} = x_k - \\frac{g(x_k)}{g'(x_k)}\n",
        "$$\n",
        "\n",
        "\n",
        "**Example**:\n",
        "1. Manually find the root of the function $g(x) = x^3 - 12.2x^2 + 7.45x + 42 = 0$ given its derivative, $g'(x) = 3x^2 - 24.4x + 7.45$ using the newton's method.\n",
        "\n",
        "\n",
        "2. Use the scipy.optimize.newton to find the root of the function $\n",
        "g(x) = x^3 - 12.2x^2 + 7.45x + 42 = 0\n",
        "$ given its derivative, $g'(x) = 3x^2 - 24.4x + 7.45$ using the newton's method."
      ]
    },
    {
      "cell_type": "code",
      "execution_count": null,
      "metadata": {
        "colab": {
          "base_uri": "https://localhost:8080/",
          "height": 482
        },
        "id": "AnxBELOwgIwE",
        "outputId": "ed33746d-dcb1-4ad2-d255-599476a6d783"
      },
      "outputs": [
        {
          "name": "stdout",
          "output_type": "stream",
          "text": [
            "Root manualy calculated, X=11.200000000000093\n",
            "[12, 11.300375042618478, 11.201895469742569, 11.200000695476783, 11.200000000000093]\n"
          ]
        },
        {
          "data": {
            "image/png": "[encoded data removed]",
            "text/plain": [
              "<Figure size 640x480 with 1 Axes>"
            ]
          },
          "metadata": {},
          "output_type": "display_data"
        },
        {
          "name": "stdout",
          "output_type": "stream",
          "text": [
            "Root calculated with scipy.optimize.newton, X=11.199999999999998\n"
          ]
        }
      ],
      "source": [
        "def g(x):\n",
        " return x**3 - 12.2*x**2 + 7.45*x + 42\n",
        "def g_derivative(x):\n",
        " return 3*x**2 - 24.4*x + 7.45\n",
        "\n",
        "\n",
        "# Example 1\n",
        "# this block uses the previous block functions\n",
        "step_newtons_method = step_newtons_method_builder(g, g_derivative)\n",
        "accuracy = 0.000001\n",
        "stop_newtons_method = stop_criterion_relative_step(accuracy)\n",
        "\n",
        "\n",
        "x_approximations = []\n",
        "x_approximations.append(12)\n",
        "x_approximations = newtons_method(x_approximations, step_newtons_method, stop_newtons_method)\n",
        "print(f\"Root manually calculated, X={x_approximations[-1]}\")\n",
        "\n",
        "\n",
        "# plot the function and the approximations\n",
        "import matplotlib.pyplot as plt\n",
        "x_plot = np.linspace(10.50, 12.1, 400)\n",
        "print(x_approximations)\n",
        "plt.scatter([x_approximations[0],x_approximations[1],x_approximations[2]], [0,0,0])\n",
        "plt.plot(x_plot, g(x_plot))\n",
        "plt.plot(x_plot, g_derivative(x_approximations[0])*x_plot + g(x_approximations[0])-g_derivative(x_approximations[0])*x_approximations[0])\n",
        "plt.grid()\n",
        "plt.show()\n",
        "\n",
        "\n",
        "# Example 2\n",
        "from scipy.optimize import newton\n",
        "root_newton = newton(g, x0=0.5)\n",
        "print(f\"Root calculated with scipy.optimize.newton, X={root_newton}\")\n"
      ]
    },
    {
      "cell_type": "markdown",
      "metadata": {
        "id": "YhHbY7z5rdqx"
      },
      "source": [
        "### Secant Method\n",
        "\n",
        "\n",
        "The secant method for minimizing the approximation of $f(x)$ is based on the same approach as the newton method for approximation, with the difference that the second derivative $f``(x)$ is approximated instead of calculated. Same as the Newton method, the second method can be used for approximating the extreme or the root of the function.\n",
        "The algorithm requires two initial values $x_0$ and $x_1$.\n",
        "\n",
        "\n",
        "* When approximating local extrema for $f(x)$, the algorithm needs as an input only the differential $f'(x)$.\n",
        "$$\n",
        "x_{k+1} = x_k - f'(x_k) \\frac{x_k - x_{k-1}}{f'(x_k) - f'(x_{k-1})}\n",
        "$$\n",
        "* When approximating a root of a function $g(x)$ a differential of a $g'(x)$ is not needed.\n",
        "\n",
        "\n",
        "$$\n",
        "x_{k+1} = x_k - g(x_k) \\frac{x_k - x_{k-1}}{g(x_k) - g(x_{k-1})}\n",
        "$$\n",
        "\n",
        "\n",
        "\n",
        "**Examples**:\n",
        "1. Develop the secant method algorithm and find the root of the $g(x)=x**3-12.2*x**2+42=0$, *(Example 7,5 page 107, \"An Introduction to Optimization\")*.\n",
        "\n",
        "2. Using the `scipy.optimize.newton` library, Find the root of the $g(x)=x**3-12.2*x**2+42=0$, , *(Example 7,5 page 107, \"An Introduction to Optimization\")*."
      ]
    },
    {
      "cell_type": "code",
      "execution_count": null,
      "metadata": {
        "colab": {
          "base_uri": "https://localhost:8080/",
          "height": 604
        },
        "id": "qTl2V8IunYsH",
        "outputId": "e8d801b5-12de-4632-94ec-b29ef8cd1761"
      },
      "outputs": [
        {
          "name": "stdout",
          "output_type": "stream",
          "text": [
            "Step 0 approximation value 13,\n",
            "Step 1 approximation value 12,\n",
            "Step 2 approximation value 11.401574803149607,\n",
            "Step 3 approximation value 11.227209417308144,\n",
            "Step 4 approximation value 11.201027680731215,\n",
            "Step 5 approximation value 11.200005393481776,\n",
            "Step 6 approximation value 11.200000001073377,\n",
            "Step 7 approximation value 11.2,\n",
            "Step 8 approximation value 11.2,\n",
            "Root found by scipy.optimize.newton Secant method: 11.200000000000033\n"
          ]
        },
        {
          "data": {
            "image/png": "[encoded data removed]",
            "text/plain": [
              "<Figure size 640x480 with 1 Axes>"
            ]
          },
          "metadata": {},
          "output_type": "display_data"
        }
      ],
      "source": [
        "# Secant algorithm, Example 7,5 page 107\n",
        "\n",
        "import numpy as np\n",
        "import matplotlib.pyplot as plt\n",
        "from scipy.optimize import newton\n",
        "\n",
        "# Example 1\n",
        "\n",
        "# Find the root of the function\n",
        "def g(x_in:float)->float:\n",
        "  return x_in**3 - 12.2*x_in**2 + 7.45*x_in + 42\n",
        "\n",
        "# Plot\n",
        "x_plot = np.linspace(8.8, 13, 100)\n",
        "plt.plot(x_plot, g(x_plot))\n",
        "plt.grid()\n",
        "\n",
        "def secant_method_step_builder(f_in):\n",
        "    def step_function(x_approximations_in):\n",
        "      _a = (f_in(x_approximations_in[-1])*x_approximations_in[-2] - f_in(x_approximations_in[-2])*x_approximations_in[-1])\n",
        "      _b = (f_in(x_approximations_in[-1]) - f_in(x_approximations_in[-2]))\n",
        "      return _a/_b\n",
        "    return step_function\n",
        "\n",
        "\n",
        "def secant_method(approximations_in, function_in, stop_criterion_in):\n",
        "  return general_approximation_iterator(approximations_in,\n",
        "                                    secant_method_step_builder(function_in),\n",
        "                                    stop_criterion_in)\n",
        "\n",
        "x_approximations = []\n",
        "x_approximations.append(13)\n",
        "x_approximations.append(12)\n",
        "\n",
        "stop_criterion_secant = stop_criterion_relative_step(1e-12)\n",
        "\n",
        "secant_method(x_approximations, g , stop_criterion_secant)\n",
        "\n",
        "\n",
        "for element in enumerate(x_approximations):\n",
        "    print(f\"Step {element[0]} approximation value {element[1]},\")\n",
        "\n",
        "# Example 2\n",
        "\n",
        "from scipy.optimize import newton\n",
        "# x0 x1 are the two starting values for secant method\n",
        "root_secant = newton(g, x0=13, x1=12)\n",
        "print(\"Root found by scipy.optimize.newton Secant method:\", root_secant)"
      ]
    },
    {
      "cell_type": "markdown",
      "metadata": {
        "id": "orLu4hKMiYTU"
      },
      "source": [
        "### Gradient method\n",
        "The Gradient method is used to approximate an extremum of a function $f$. Similar to the Newton method, it requires the knowledge of the derivative of $f$ in the approximation steps $\\pmb{x^{(0)}}, \\pmb{x^{(1)}}...$ .\n",
        "\n",
        "\n",
        "* Given $f(\\textbf{x}) = c, \\textbf{x} \\in \\mathbb{R}^n$, and  $ c \\in \\mathbb{R}$.\n",
        "\n",
        "* The gradient of $ f $ at $ \\pmb{x_0} $ is a vector in $ \\mathbb{R}^n $, denoted by $ \\nabla f(\\pmb{x_0}) $.\n",
        "\n",
        "* $\\nabla f(\\pmb{x_0})$ points in the direction of the maximum rate of increase of $f(\\pmb{x})$.\n",
        "\n",
        "* $-\\nabla f(\\pmb{x_0})$ points in the direction of the maximum rate of decrease of $f(\\pmb{x})$.\n",
        "\n",
        "\n",
        "For a starting value $\\pmb{x^{(k_0)}}$, the value $\\pmb{x^{(k+1)}}$ will be a \"move\" in the direction of the local minimum:\n",
        "\n",
        "$$\n",
        "\\pmb{x^{(k+1)}} = \\pmb{x^{(k)}} - \\alpha_k \\nabla f(\\pmb{x^{(k)}})\n",
        "$$\n",
        "\n",
        "For a starting the value $x\\pmb{^{(k_0)}}$, the value $\\pmb{x^{(k+1)}}$ will be a \"move\" in the direction of the local maximum:\n",
        "\n",
        "$$\n",
        "\\pmb{x^{(k+1)}} = \\pmb{x^{(k)}} + \\alpha_k \\nabla f(\\pmb{x^{(k)}})\n",
        "$$\n",
        "\n",
        "The scalar $\\alpha_k$ is the $\\textit{step size}$ and is always bigger than 0. Different variations of the algorithm exist, that use different strategies to re-calculated $\\alpha$ on every iteration. Correctly choosing $\\alpha$ is quite important, picking a random $\\alpha$ might not result in convergence.\n",
        "\n",
        "Unlike the previous example, where approximation was done on a one-dimensional function, the following gradient method algorithm approximates an n-dimensional function. As a result, the steps $\\pmb{x^{(0)}}, \\pmb{x^{(1)}}, \\ldots$ are n-dimensional dots/vectors. Consequently, the algorithm stops when the distance between $\\pmb{x^{(k)}}$ and $\\pmb{x^{(k+1)}}$ is smaller than a given accuracy, or when the norm of the vector $\\| \\pmb{x^{(k)}} - \\pmb{x^{(k+1)}} \\| $ is smaller than a required accuracy.\n",
        "\n",
        "**Example**.\n",
        "Find the minimizer of $f(x_1, x_2, x_3) = (x_1 - 4)^4 + (x_2 - x_3)^2 + 4(x_3 + 5)^4$, *(Page 118, Example 8.1, \"An Introduction to Optimization\")*.\n"
      ]
    },
    {
      "cell_type": "code",
      "execution_count": null,
      "metadata": {
        "colab": {
          "base_uri": "https://localhost:8080/"
        },
        "id": "eEDubGoa4sow",
        "outputId": "77cd4aa4-07ea-4329-d9e1-4902bda1ac82"
      },
      "outputs": [
        {
          "name": "stdout",
          "output_type": "stream",
          "text": [
            "    [ 4  2 -1],\n",
            "    [ 4.          2.01980152 -3.38401547],\n",
            "    [ 4.          2.03921095 -3.80739339],\n",
            "    [ 4.          2.05823603 -4.01138817],\n",
            "    [ 4.          2.07688439 -4.13717301],\n",
            "    [ 4.          2.09516349 -4.22461701],\n",
            "    [ 4.          2.11308063 -4.28992785],\n",
            "    [ 4.          2.13064298 -4.34110152],\n",
            "    [ 4.          2.14785757 -4.3825981 ],\n",
            "    [ 4.          2.16473129 -4.41712757],\n",
            "    [ 4.          2.18127088 -4.44644404],\n",
            "    [ 4.          2.19748297 -4.4717397 ],\n",
            "    [ 4.          2.21337403 -4.49385691],\n",
            "    [ 4.          2.22895042 -4.51341003],\n",
            "    [ 4.          2.24421837 -4.53085906],\n",
            "    [ 4.          2.259184   -4.54655616],\n",
            "    [ 4.          2.27385329 -4.56077616],\n",
            "    [ 4.          2.2882321  -4.57373709],\n",
            "    [ 4.          2.30232619 -4.58561441],\n",
            "    [ 4.          2.31614119 -4.59655115],\n",
            "    [ 4.          2.32968264 -4.60666527],\n",
            "    [ 4.          2.34295594 -4.61605495],\n",
            "    [ 4.          2.35596641 -4.62480276],\n",
            "    [ 4.          2.36871926 -4.63297864],\n",
            "    [ 4.          2.38121958 -4.64064231],\n",
            "    [ 4.          2.39347237 -4.64784512],\n",
            "    [ 4.          2.40548254 -4.65463148],\n",
            "    [ 4.          2.41725489 -4.66104003],\n",
            "    [ 4.          2.42879413 -4.66710458],\n",
            "    [ 4.          2.44010488 -4.67285484],\n",
            "    [ 4.          2.45119166 -4.67831705],\n",
            "    [ 4.          2.4620589  -4.68351448],\n",
            "    [ 4.          2.47271095 -4.68846786],\n",
            "    [ 4.          2.48315208 -4.69319571],\n",
            "    [ 4.          2.49338645 -4.69771464],\n",
            "    [ 4.          2.50341817 -4.7020396 ],\n",
            "    [ 4.          2.51325125 -4.70618407],\n",
            "    [ 4.          2.52288962 -4.71016027],\n",
            "    [ 4.          2.53233713 -4.71397929],\n",
            "The algorithm achieved accuracy of 1e-07 in 38331 steps\n"
          ]
        }
      ],
      "source": [
        "# Gradient method with fixed step alfa\n",
        "import numpy as np\n",
        "import matplotlib.pyplot as plt\n",
        "\n",
        "# Example 1\n",
        "\n",
        "def f(x_in):\n",
        "    return (x_in[0]-4)**4 + (x_in[1]-3)**2 + 4*(x_in[2]+5)**4\n",
        "\n",
        "def delta_f(x_in):\n",
        "    return np.array([4*(x_in[0]-4)**3, 2*(x_in[1]-3), 16*(x_in[2]+5)**3])\n",
        "\n",
        "def gradient_method_step_builder(delta_f_in, alfa_in):\n",
        "  def step_function(approximations_in):\n",
        "    return approximations_in[-1] - alfa_in*delta_f_in(approximations_in[-1])\n",
        "  return step_function\n",
        "\n",
        "def gradient_method(approximations_in, function_in, stop_criterion_in, alfa_in):\n",
        "  return general_approximation_iterator(approximations_in,\n",
        "                                    gradient_method_step_builder(function_in,\n",
        "                                                                 alfa_in),\n",
        "                                    stop_criterion_in)\n",
        "\n",
        "def stop_criteria_relative_multi_dimensional(accuracy_in:float):\n",
        "  def stop_criterion(approximations_in: list):\n",
        "    if len(approximations_in) > 1:\n",
        "      a_ = np.linalg.norm(approximations_in[-1] - approximations_in[-2])\n",
        "      b_ = np.linalg.norm(approximations_in[-2])\n",
        "      return (a_/min(1,b_))<accuracy_in\n",
        "    return False\n",
        "  return stop_criterion\n",
        "\n",
        "x_approximations = []\n",
        "x0 = np.array([4,2,-1])\n",
        "x_approximations.append(x0)\n",
        "\n",
        "approximations_gradient = gradient_method(approximations_in = x_approximations,\n",
        "                                          function_in = delta_f,\n",
        "                                          stop_criterion_in = stop_criteria_relative_multi_dimensional(accuracy_in = 0.00001),\n",
        "                                          alfa_in = 0.00001)\n",
        "\n",
        "# The algorithm is not really efficient as alpha is fixed\n",
        "# and conservatively selected.\n",
        "# The following code prints every 1000 approximation\n",
        "for i, element in enumerate(approximations_gradient):\n",
        "    if i % 1000 == 0:\n",
        "        print(f\"    {element},\")\n",
        "\n",
        "print(f\"The algorithm achieved accuracy of {accuracy} in {len(approximations_gradient)} steps\")\n",
        "\n"
      ]
    },
    {
      "cell_type": "markdown",
      "metadata": {
        "id": "HWr3y3z7t3i4"
      },
      "source": [
        "### Gradient with step adjustment, Steepest descent\n",
        "\n",
        "\n",
        "In-order to optimize $\\alpha_k$ when minimizing $f$, it is requeued to finding a positive $\\alpha_k$ so for the next $\\pmb{x^{(k+1)}}$, $\\pmb{x^{(k+1)}} = \\pmb{x^{(k)}} - \\alpha_k \\nabla f(\\pmb{x^{(k)}})$ the function $f(\\pmb{x^{(k+1)}})$ will have the smallest possible value.\n",
        "\n",
        "Since the vectors/dots, $\\pmb{x^{(k)}}$ and $\\nabla f(\\pmb{x^{(k)}})$ are already know, optimizing $\\alpha_k$ would be finding a minimum of the one dimensional function:\n",
        "$$argmin(\\alpha_k) = f(\\pmb{x^{(k)}} - \\alpha_k \\nabla f(\\pmb{x^{(k)}}))$$\n",
        "\n",
        "\n",
        "The minimizer of $argmin(\\alpha_k)$ can be found using some of the previous approximation methods that are applicable on one dimensional functions.\n",
        "\n",
        "\n",
        "**Examples**:\n",
        "1. Develop an algorithm for the Steepest descent method and find the minimizer of $f(x_1, x_2, x_3) = (x_1 - 4)^4 + (x_2 - x_3)^2 + 4(x_3 + 5)^4$ where the step $\\alpha_k$ is adjusted using the secant_method method, *(Page 118, Example 8.1 of \"An Introduction to Optimization\")*.\n",
        "\n",
        "1.  Find the minimizer of $f(x_1, x_2, x_3) = (x_1 - 4)^4 + (x_2 - x_3)^2 + 4(x_3 + 5)^4$ using the python's `minimize` from the `scipy.optimize import minimize`,  *(Page 118, Example 8.1 of \"An Introduction to Optimization\")*."
      ]
    },
    {
      "cell_type": "code",
      "execution_count": null,
      "metadata": {
        "colab": {
          "base_uri": "https://localhost:8080/"
        },
        "id": "3kBBPZ2aF7cX",
        "outputId": "74c2a8e8-4ee8-4e90-a462-13545d774cc8"
      },
      "outputs": [
        {
          "name": "stdout",
          "output_type": "stream",
          "text": [
            "The minimum of f using the manually written algoritham is in  [ 4.          3.         -5.00095904]  and the minimum value is :  3.383828899365421e-12\n",
            "The minimum of f using scipy.optimize.minimize is in  [ 4.          2.99999994 -4.99737138]  and the minimum value is :  1.9097685752555911e-10\n"
          ]
        }
      ],
      "source": [
        "# Gradient with step adjustment alpha or Steepest descent\n",
        "\n",
        "import numpy as np\n",
        "import matplotlib.pyplot as plt\n",
        "\n",
        "def f(x_in) -> float:\n",
        "    return (x_in[0]-4)**4 + (x_in[1]-3)**2 + 4*(x_in[2]+5)**4\n",
        "\n",
        "def delta_f(x_in):\n",
        "    return np.array([4*(x_in[0]-4)**3, 2*(x_in[1]-3), 16*(x_in[2]+5)**3])\n",
        "\n",
        "# This structure creates the arg_min initially dependent on the objective\n",
        "# function function_in and then on the current approximation of function_in\n",
        "# in the respective iteration.\n",
        "def arg_min_builder(function_in, delta_function_in):\n",
        "  def alpha_arg_min_approximation(current_approximation_in):\n",
        "    def arg_min(alpha_in: float):\n",
        "      delta_x = delta_function_in(current_approximation_in)\n",
        "      alpha_delta = alpha_in*delta_x\n",
        "      return function_in(current_approximation_in-alpha_delta)\n",
        "    return arg_min\n",
        "  return alpha_arg_min_approximation\n",
        "\n",
        "# The derivate is used to approximate the alpha\n",
        "def derivative_of(function_in):\n",
        "  def numerical_derivative(x_in):\n",
        "    _delta_x = 1e-5\n",
        "    _derivate_f = (function_in(x_in + _delta_x) - function_in(x_in - _delta_x))/(2*_delta_x)\n",
        "    return _derivate_f\n",
        "  return numerical_derivative\n",
        "\n",
        "# Let's create a general function that will take an approximation_method from the methods we have previously defined,\n",
        "# the approximations_in, and the stop_criterion_in. It will return an approximation_method function that will be able to\n",
        "# approximate any input function given the approximation_method_in, approximations_in, and stop_criterion_in.\n",
        "def approximation_method_builder_app_meth_criter(approximations_in, approximation_method_in, stop_criterion_in):\n",
        "  def approximation_method(function_in):\n",
        "    return approximation_method_in(approximations_in.copy(), function_in, stop_criterion_in)\n",
        "  return approximation_method\n",
        "\n",
        "# Here Im defining a step function for the gradient method with adjustable alpha step\n",
        "# This function already uses the gradient_method_step_builder function with fixed alpha\n",
        "# and approximates alpha based on the\n",
        "def gradient_method_step_builder_with_adjustable_alpha(f_in, delta_f_in, alpha_approximation_method_in):\n",
        "  alpha_arg_min_builder_from_approximation = arg_min_builder(f, delta_f)\n",
        "  def approximate_alpha(approximations_in):\n",
        "    alpha_arg_min_function_ = alpha_arg_min_builder_from_approximation(current_approximation_in = approximations_in[-1])\n",
        "    derivative_alpha_function = derivative_of(alpha_arg_min_function_)\n",
        "    alpha_approximations = alpha_approximation_method_in(derivative_alpha_function)\n",
        "    alpha = alpha_approximations[-1]\n",
        "    return alpha\n",
        "  def step_function(approximations_in):\n",
        "    alpha = approximate_alpha(approximations_in)\n",
        "    gradient_step_function = gradient_method_step_builder(delta_f_in, alpha)\n",
        "    return gradient_step_function(approximations_in)\n",
        "  return step_function\n",
        "\n",
        "def gradient_method_with_alpha_adjustment(f_in,\n",
        "                                          delta_f_in,\n",
        "                                          approximations_in,\n",
        "                                          stop_criterion_in,\n",
        "                                          alpha_approximation_method_in):\n",
        "  return general_approximation_iterator(approximations_in,\n",
        "                             gradient_method_step_builder_with_adjustable_alpha(\n",
        "                                 f_in,\n",
        "                                 delta_f_in,\n",
        "                                 alpha_approximation_method_in\n",
        "                             ),\n",
        "                             stop_criterion_in)\n",
        "\n",
        "\n",
        "\n",
        "x0 = np.array([4, 2, -1])\n",
        "x_approximations = [x0]\n",
        "\n",
        "gradient_method_with_alpha_adjustment(f_in = f,\n",
        "                                      delta_f_in = delta_f,\n",
        "                                      approximations_in = x_approximations,\n",
        "                                      stop_criterion_in = stop_criteria_relative_multi_dimensional(accuracy_in=0.00001),\n",
        "                                      alpha_approximation_method_in = approximation_method_builder_app_meth_criter(\n",
        "                                        approximations_in = [0.01, 0.08],\n",
        "                                        approximation_method_in = secant_method,\n",
        "                                        stop_criterion_in = stop_criterion_relative_step(0.0001)\n",
        "                                      ))\n",
        "# Print the result\n",
        "print(\"The minimum of f using the manually written algorithm is in \",\n",
        "      x_approximations[-1], \" and the minimum value is : \",\n",
        "      f(x_approximations[-1]))\n",
        "\n",
        "\n",
        "# Example 2\n",
        "from scipy.optimize import minimize\n",
        "\n",
        "# The method minimize is a general method for minimizing a function f given its\n",
        "# gradient delta_f, it is not strictly using the steepest descent algorithm\n",
        "# In this case `method='Newton-CG' the minimize function will use the Newton-CG algorithm\n",
        "# https://docs.scipy.org/doc/scipy/reference/generated/scipy.optimize.minimize.html#scipy.optimize.minimize\n",
        "result = minimize(f, x0, method='Newton-CG', jac=delta_f)\n",
        "\n",
        "# Print the result\n",
        "print(\"The minimum of f using scipy.optimize.minimize is in \",\n",
        "      result.x, \" and the minimum value is : \"\n",
        "      ,result.fun)"
      ]
    },
    {
      "cell_type": "markdown",
      "metadata": {
        "id": "FH6VZXduS5z9"
      },
      "source": [
        "## Linear programing\n"
      ]
    },
    {
      "cell_type": "markdown",
      "metadata": {
        "id": "PiMnZWFtb-ga"
      },
      "source": [
        "This type of optimization tries to find an extremum of a linear function $F(\\pmb{x})$, **called the objective function**, given a set of constraints that are linear equations or inequalities. Based on the type of constraints and the extremum of the function, a linear program can be written in different forms.\n",
        "\n",
        "The following proposition is called a linear program in **standard form**:\n",
        "\n",
        "Minimize:\n",
        "\n",
        "$$\n",
        "F(x_1, \\ldots, x_n) = c_1 x_1 + c_2 x_2 + \\ldots + c_n x_n\n",
        "$$\n",
        "\n",
        "\n",
        "Subject to:\n",
        "\n",
        "\n",
        "$$\n",
        "\\begin{aligned}\n",
        "a_{1,1}x_1 + \\ldots + a_{1,n}x_n &= b_1 \\\\\n",
        "\\vdots \\\\\n",
        "a_{k,1}x_1 + \\ldots + a_{k,n}x_n &= b_k \\\\\n",
        "\\end{aligned}\n",
        "$$\n",
        "\n",
        "$$\n",
        "x_1, \\ldots, x_n \\geq 0\n",
        "$$\n",
        "\n",
        "Or represented with matrices:\n",
        "\n",
        "Minimize:\n",
        "\n",
        "$$\n",
        "F(\\pmb{x}) = c^T \\pmb{x}\n",
        "$$\n",
        "\n",
        "Subject to:\n",
        "\n",
        "$$\n",
        "A\\pmb{x} = B \\quad \\text{where} \\quad \\pmb{x} \\geq 0\n",
        "$$\n",
        "\n",
        "\n",
        "\n",
        "A linear program can be given in a **nonstandard form**, and the difference between a standard and nonstandard program is in the set of constraints. If the set of constraints defined by the matrices $A \\cdot \\pmb{x}$ and $B$ contains inequalities, then the linear program is in a nonstandard form.\n",
        "\n",
        "The solution of the linear program is the vector $\\pmb{x}(x_1, \\ldots, x_n)$ that maximizes/minimizes the function $F$.\n",
        "\n",
        "*Some authors define the standard form in a way that the goal of the problem is to maximize the objective function.*  \n",
        "\n",
        "\n",
        "Every solution $\\pmb{x}$ for $F(\\pmb{x})$ that satisfies the set of constraints is called a feasible point.\n",
        "\n",
        "A solution to a standard the linear program is $\\pmb{x}$ that minimizes $F$ for the given constraints. There can be more than one solution for the linear program.\n",
        "\n",
        "Every linear program in a nonstandard form can be converted into a standard form. This is done by introducing additional variables for every inequality. In case that the goal of the linear problem is to maximize the objective function $F(\\pmb{x})$ than the function $F(\\pmb{x})$ can be replaced with a function $G(\\pmb{x})$ just by multiplying $F(\\pmb{x})$ with -1, $G(\\pmb{x})=-F(\\pmb{x})$ as the is maximum for $F$ is achieved in the same value for $\\pmb{x}$ as the maximum for $G$.\n",
        "\n",
        "For example: $a_1 x_1 \\leq 10$ is transformed to a linear equation as $a_1 x_1 + s_1 = 10$, for $s \\geq 0$.\n",
        "\n",
        "Example, the following program is given in a nonstandard form:\n",
        "\n",
        "\n",
        "$$\n",
        "\\begin{aligned}\n",
        "\\text{minimize: } F(x_1, x_2) &= 4x_1 + 5x_2 \\\\\n",
        "\\text{subject to:} \\\\\n",
        "1x_1 + 1x_2 &\\leq 8 \\\\\n",
        "1x_1 + 3x_2 &\\leq 18 \\\\\n",
        "2x_1 + 1x_2 &\\leq 14 \\\\\n",
        "x_1, x_2 &\\geq 0\n",
        "\\end{aligned}\n",
        "$$\n",
        "\n",
        "The standard form of the program is:\n",
        "\n",
        "$$\n",
        "\\begin{aligned}\n",
        "\\text{minimize: } F(x_1, x_2) &= 4x_1 + 5x_2 \\\\\n",
        "\\text{subject to:} \\\\\n",
        "1x_1 + 1x_2 + s_1 &= 8 \\\\\n",
        "1x_1 + 3x_2 + s_2 &= 18 \\\\\n",
        "2x_1 + 1x_2 + s_3 &= 14 \\\\\n",
        "x_1, x_2, s_1, s_2, s_3 &\\geq 0\n",
        "\\end{aligned}\n",
        "$$\n",
        "\n",
        "or:\n",
        "\n",
        "$$\n",
        "\\begin{aligned}\n",
        "\\text{minimize: } F(x_1, x_2) &= 4x_1 + 5x_2 \\\\\n",
        "\\text{subject to: } \\\\\n",
        "1x_1 + 1x_2 + 1s_1 + 0s_2 + 0s_3 &= 8 \\\\\n",
        "1x_1 + 3x_2 + 0s_1 + 1s_2 + 0s_3 &= 18 \\\\\n",
        "2x_1 + 1x_2 + 0s_1 + 0s_2 + 1s_3 &= 14 \\\\\n",
        "x_1, x_2, s_1, s_2, s_3 &\\geq 0\n",
        "\\end{aligned}\n",
        "$$\n",
        "\n",
        "In the general case, a nonstandard linear program:\n",
        "\n",
        "$$\n",
        "\\begin{aligned}\n",
        "F(\\pmb{x}) &= c^T \\pmb{x} \\\\\n",
        "A \\pmb{x} &\\leq B \\\\\n",
        "\\text{where} \\quad \\pmb{x} &\\geq 0\n",
        "\\end{aligned}\n",
        "$$\n",
        "\n",
        "can be transformed to a standard one like this:\n",
        "\n",
        "$$\n",
        "\\begin{aligned}\n",
        "F(\\pmb{x}) &= c^T \\pmb{x} \\\\\n",
        "[A, I] \\begin{bmatrix} \\pmb{x} \\\\ S \\end{bmatrix} &= B \\\\\n",
        "\\text{where:} \\\\\n",
        "\\pmb{x} &\\geq 0, \\\\\n",
        "S &\\geq 0\n",
        "\\end{aligned}\n",
        "$$\n",
        "- all values of $\\pmb{x}$ and $S$ are greater than or equal to $0$ and $I$ is an identity matrix.\n",
        "\n",
        "### Simplex algorithm\n",
        "The simplex method is a method that solves a liner program in standard form.\n",
        "\n",
        "**Example**. Develop an linear program algorithm and solve the following program:\n",
        "\n",
        "```md\n",
        "  Minimize:\n",
        "          F(x_1,x_2) = 7*x_1 + 6*x_2\n",
        "  Subject to:\n",
        "         2*x_1 + x_2 <= 3\n",
        "         x_1 + 4*x_2 <= 4\n",
        "            x_1, x_2 >= 0\n",
        "```\n",
        "\n",
        "*(Example 16.3 (An introduction to optimization) Page 306)*"
      ]
    },
    {
      "cell_type": "code",
      "execution_count": null,
      "metadata": {
        "colab": {
          "base_uri": "https://localhost:8080/"
        },
        "id": "p8jGw80lnQpY",
        "outputId": "b4c818f1-d127-4843-da4d-c691224b074a"
      },
      "outputs": [
        {
          "name": "stdout",
          "output_type": "stream",
          "text": [
            "[[ 2  1]\n",
            " [ 1  4]\n",
            " [-7 -6]]\n",
            "[[ 2  1  1  0  0]\n",
            " [ 1  4  0  1  0]\n",
            " [-7 -6  0  0  1]]\n",
            "Simpex Table--\n",
            "[[ 2  1  1  0  0  3]\n",
            " [ 1  4  0  1  0  4]\n",
            " [-7 -6  0  0  1  0]]\n",
            "--Simpex Table\n",
            "Minimum is achieved in the vector\n",
            "[8/7 5/7]\n",
            "The minimum is\n",
            "86/7\n"
          ]
        }
      ],
      "source": [
        "# Example 16.3 \"An introduction to optimization\" Page 306:\n",
        "#\n",
        "#               Maximize:\n",
        "#                        G(x_1,x_2) = 7*x_1 + 6*x_2\n",
        "#               Subject to:\n",
        "#                      2*x_1 + x_2 <= 3\n",
        "#                      x_1 + 4*x_2 <= 4\n",
        "#                         x_1, x_2 >= 0\n",
        "#\n",
        "import numpy as np\n",
        "\n",
        "# By convection of this text we transform the Maximize to a Minimize problem\n",
        "#\n",
        "#               Minimize:\n",
        "#                        F(x_1,x_2) = - 7*x_1 - 6*x_2\n",
        "#               Subject to:\n",
        "#                      2*x_1 + x_2 <= 3\n",
        "#                      x_1 + 4*x_2 <= 4\n",
        "#                         x_1, x_2 >= 0\n",
        "#\n",
        "\n",
        "# First step (1) is to prepare the linear program\n",
        "## 1.1 Transform the linear program in to it's standard form\n",
        "# 2*x_1 + 1*x_2 + 1*s_1 + 0*s_2 = 3\n",
        "# 1*x_1 + 4*x_2 + 0*s_1 + 1*s_2 = 4\n",
        "\n",
        "# C contains the params of the objective function\n",
        "C = np.array([-7,-6])\n",
        "A = np.array([[2,1],[1,4]])\n",
        "B = np.array([[3],[4]])\n",
        "I = np.array([[1,0,0],[0,1,0],[0,0,1]])\n",
        "\n",
        "# Creates a simplex table from the linear expressions parameters A, I, B and F\n",
        "def create_simplex_table(A,B,C,I):\n",
        "    A_C = np.vstack((A,C))\n",
        "    print(A_C)\n",
        "    A_C_I = np.hstack((A_C,I))\n",
        "    print(A_C_I)\n",
        "    A_C_I_B = np.hstack((A_C_I, np.vstack((B,[0]))))\n",
        "    return A_C_I_B\n",
        "\n",
        "\n",
        "# This helper function returns the row and colum of the smallest value in the last row of a matrix\n",
        "def find_smallest_value_in_the_last_row(table_in):\n",
        "    # Get the last row of the table_in\n",
        "    last_row = table_in[-1]\n",
        "    # Find the index of the smallest value in the last row\n",
        "    min_value_index = np.argmin(last_row[:len(last_row)-1])\n",
        "    # Return the smallest value, its row index, and column index\n",
        "    return min_value_index, last_row[min_value_index]\n",
        "\n",
        "# Return the smallest ratio, matrix[i,lastColumn]/matrix[i,column]\n",
        "def find_smallest_ratio(table_in, column_in):\n",
        "    ratios = []  # Store the ratios\n",
        "    for i in range(len(table_in) - 1):  # Exclude the last row\n",
        "        if table_in[i][column_in] != 0:  # Avoid division by zero\n",
        "            ratio = table_in[i][-1] / table_in[i][column_in]\n",
        "            ratios.append((i, ratio))  # Store (index, ratio) tuple\n",
        "        else:\n",
        "            ratios.append((i, None))  # Set value to None if division by zero\n",
        "    min_index, min_value = min((pair for pair in ratios if pair[1] is not None), key=lambda x: x[1], default=(None, None))\n",
        "    return min_index, min_value\n",
        "\n",
        "from sympy import Matrix\n",
        "\n",
        "def custom_pivot_column(table_in, pivot_row, pivot_col):\n",
        "    # Convert the matrix to a NumPy array for easier manipulation\n",
        "    np_matrix = np.array(table_in)\n",
        "    # Divide the pivot row by the pivot element to make it 1\n",
        "    pivot_element = np_matrix[pivot_row, pivot_col]\n",
        "    np_matrix[pivot_row, :] /= pivot_element\n",
        "    # Eliminate other elements in the same column\n",
        "    num_rows = np_matrix.shape[0]\n",
        "    for i in range(num_rows):\n",
        "        if i != pivot_row:\n",
        "            ratio = np_matrix[i, pivot_col]\n",
        "            # //todo add it in python tutorial for matrixes, manipulations with row and column\n",
        "            np_matrix[i, :] -= ratio * np_matrix[pivot_row, :]\n",
        "    # Convert the modified NumPy array back to a SymPy Matrix\n",
        "    pivoted_table = Matrix(np_matrix)\n",
        "    return np.array(pivoted_table)\n",
        "\n",
        "def simplex_method_step_function(simplex_matrix_in):\n",
        "  # Step 1 simplex algorithm, find the column, i of the value that has biggest negative value,\n",
        "  # This is the steppes direction of increase for the F function\n",
        "  column, value = find_smallest_value_in_the_last_row(simplex_matrix_in)\n",
        "  # Find the row of the constraint that gives the lowes constraint for xi.\n",
        "  row, value = find_smallest_ratio(simplex_matrix_in, column)\n",
        "  return custom_pivot_column(Matrix(simplex_matrix_in),row,column)\n",
        "\n",
        "\n",
        "# The algorithm requires the data form the equations to be in a form of A_C_I_B matrix, lets rename this matrix to simplex_matrix, for context\n",
        "# simplex_table = A_C_I_B\n",
        "simplex_table = create_simplex_table(A,B,C,I)\n",
        "\n",
        "print(\"Simplex Table--\")\n",
        "print(simplex_table)\n",
        "print(\"--Simplex Table\")\n",
        "\n",
        "x_approximations = []\n",
        "x_approximations.append(simplex_table)\n",
        "\n",
        "def stop_conditions_simplex_method(approximations_in):\n",
        "  column, min_column_value  = find_smallest_value_in_the_last_row(approximations_in[-1])\n",
        "  row, min_row_value  = find_smallest_ratio(approximations_in[-1], column)\n",
        "  return min_column_value < 0 and min_row_value != None and min_row_value > 0\n",
        "\n",
        "\n",
        "def basic_simplex_method(approximations_in, stop_conditions_function_in):\n",
        "  while(stop_conditions_function_in(approximations_in)):\n",
        "    simplex_step_table = simplex_method_step_function(approximations_in[-1])\n",
        "    approximations_in.append(simplex_step_table)\n",
        "\n",
        "\n",
        "basic_simplex_method(x_approximations, stop_conditions_simplex_method)\n",
        "\n",
        "print(\"Minimum is achieved in the vector\")\n",
        "print(x_approximations[-1][:len(C),-1])\n",
        "print(\"The minimum is\")\n",
        "print(x_approximations[-1][-1][-1])\n"
      ]
    },
    {
      "cell_type": "markdown",
      "metadata": {
        "id": "aWYm3K-1LpdC"
      },
      "source": [
        "### Two phase simplex\n",
        "\n",
        "\n",
        "\n",
        "\n",
        " The two phase simplex algorithm is a generalization of the simplex algorithm, it is required since the the basic feasible solution is not always obvious, this method standardizes the simplex algorithm.\n",
        "  Example when to use the Two phase simplex:\n",
        " * Usually the basic feasible solution is for every $x_0,x_1,...x_n = \\pmb{x} , x_i = 0$. If this $\\pmb{x}$ does not solve the function than it can be said that the basic feasible solution is not obvious. In this case the the two phase simplex method can be used.\n",
        "\n",
        "\n",
        "The algorithm contains two phases.\n",
        "* Phase 1\n",
        " Is used to find a *basic feasible solution*\n",
        "* Phase 2\n",
        " Using the *basic feasible solution* find the optimal solution\n",
        "\n",
        "\n",
        "**Canonical form of the simplex table:**\n",
        "Before applying the simplex method or the phase two of the \"Two phase simplex method\" the table needs to be in canonical form, this form needs to have 0 values for the columns of the base vectors in the last row, the row that holds the parameters of objective function. This is easily done with linear transformations.\n",
        "\n",
        "\n",
        "<!-- General form of the matrix is on page 304:\n",
        "\n",
        "\n",
        "[\n",
        " [B,     D,      b],\n",
        " [cTb,   cTd,    0]  \n",
        "]\n",
        "\n",
        "\n",
        "\n",
        "\n",
        "\n",
        "\n",
        "The algoritam starts as a tableau of the given LP problem:\n",
        "[\n",
        " [B,     D,      b],\n",
        " [cTb,   cTd,    0]  \n",
        "] -->\n",
        "\n",
        "**Example**. Develop an algorithm for the two phase simplex method and solve the linear program:\n",
        "          Minimize :\n",
        "                     2x_1 + 3x_2\n",
        "        Subject to :\n",
        "                     4x_1 + 2x_2 >= 12\n",
        "                      x_1 + 4x_2 >= 6\n",
        "                           x1,x2 >= 0\n",
        "*(Example 16.4, \"Introduction to Optimization\", page 308)*"
      ]
    },
    {
      "cell_type": "code",
      "execution_count": null,
      "metadata": {
        "colab": {
          "base_uri": "https://localhost:8080/"
        },
        "id": "hEp5VCYVLvB1",
        "outputId": "b1926bfc-02cc-4d7f-ddda-a02e36ebd24a"
      },
      "outputs": [
        {
          "name": "stdout",
          "output_type": "stream",
          "text": [
            "The starting table has this form: \n",
            " [[ 4  2 -1  0  1  0 12]\n",
            " [ 1  4  0 -1  0  1  6]\n",
            " [ 0  0  0  0  1  1  0]]\n",
            "The canonical form of the table: \n",
            " [[  4   2  -1   0   1   0  12]\n",
            " [  1   4   0  -1   0   1   6]\n",
            " [ -5  -6   1   1   0   0 -18]]\n",
            "The pahse 1 ends with the followint matrix:\n",
            " [[1 0 -2/7 1/7 2/7 -1/7 18/7]\n",
            " [0 1 1/14 -2/7 -1/14 2/7 6/7]\n",
            " [0 0 0 0 1 1 0]] \n",
            "\n",
            "The maximum is\n",
            "[18/7 6/7]\n",
            "Removed artificial variables from table: \n",
            " [[1 0 -2/7 1/7 18/7]\n",
            " [0 1 1/14 -2/7 6/7]\n",
            " [0 0 0 0 0]] \n",
            "\n",
            "Reverting back the original objective function: \n",
            " [[1 0 -2/7 1/7 18/7]\n",
            " [0 1 1/14 -2/7 6/7]\n",
            " [2 3 0 0 0]] \n",
            "\n",
            "Phase two table\n",
            "[[1 0 -2/7 1/7 18/7]\n",
            " [0 1 1/14 -2/7 6/7]\n",
            " [0 0 5/14 4/7 -54/7]]\n",
            "The optimal solution to the liear program is: [18/7 6/7],\n",
            "and the optimal cost is 54/7\n"
          ]
        }
      ],
      "source": [
        "#  Example 16.4, Introduction to Optimization, page 308\n",
        "#          minimize :\n",
        "#                     2x_1 + 3x_2\n",
        "#        subject to :\n",
        "#                     4x_1 + 2x_2 >= 12\n",
        "#                      x_1 + 4x_2 >= 6\n",
        "#                           x1,x2 >= 0\n",
        "\n",
        "\n",
        "# Initially, the problem is transformed in the standard form\n",
        "#          minimize :\n",
        "#                     2x_1 + 3x_2\n",
        "#        subject to :\n",
        "#                     4x_1 + 2x_2 - x_3 - 0*x_4 = 12\n",
        "#                      x_1 + 4x_2 - 0*x_3 - x_4 = 6\n",
        "#                           x1, x2, x_3, x_4 >= 0\n",
        "# Since x_1, x_2 = 0 is not a solution, it can be concluded that the initial\n",
        "# basic solution is not obvious\n",
        "\n",
        "\n",
        "# Then artificial variables, x_5 and x_6 >= 0 and a new\n",
        "# artificial objective function x_5 + x_6, that\n",
        "# needs to be maximized are introduced\n",
        "\n",
        "\n",
        "# The artificial problem will have the following form:\n",
        "#          minimize:\n",
        "#                       x_5+x_6\n",
        "#          subject to:\n",
        "#                       4x_1 + 2x_2 - x_3 - 0*x_4 +1x_5 + 0x_6  = 12\n",
        "#                        x_1 + 4x_2 - 0*x_3 - x_4 + 0x_5 +1x_6  = 6\n",
        "#                                        x1,x2,x_3,x_4,x_5,x_6 >= 0\n",
        "\n",
        "# Phase one solution, optimizing the artificial objective function\n",
        "\n",
        "import numpy as np\n",
        "from sympy import Matrix\n",
        "\n",
        "C = np.array([2,3])\n",
        "C_a = np.array( [0,0,0,0,1,1] )\n",
        "A = np.array([[4,2,-1,0],\n",
        "              [1,4,0,-1]])\n",
        "B = np.array([[12],[6]])\n",
        "I_a = np.array([[1,0],[0,1]])\n",
        "\n",
        "def create_simplex_table(A,B,C,I):\n",
        "    A_I = np.hstack((A,I_a))\n",
        "    A_I_C = np.vstack((A_I,C))\n",
        "    A_I_C_B = np.hstack((A_I_C, np.vstack((B,[0]))))\n",
        "    return A_I_C_B\n",
        "\n",
        "simplex_matrix = create_simplex_table(A,B,C_a,I_a)\n",
        "print(f\"The starting table has this form: \\n {simplex_matrix}\")\n",
        "\n",
        "# Before starting the last row or the coefficients of the optimization function\n",
        "# need to be adjusted so that the artificial values have 0 value\n",
        "simplex_matrix[-1] -= np.sum(simplex_matrix[:-1], axis=0)\n",
        "print(f\"The canonical form of the table: \\n {simplex_matrix}\")\n",
        "\n",
        "\n",
        "x_approximations = []\n",
        "x_approximations.append(simplex_matrix)\n",
        "\n",
        "basic_simplex_method(x_approximations, stop_conditions_simplex_method)\n",
        "\n",
        "print(f\"The pahse 1 ends with the followint matrix:\\n {x_approximations[-1]} \\n\")\n",
        "\n",
        "print(\"The maximum is\")\n",
        "print(x_approximations[-1][:len(C),-1])\n",
        "\n",
        "\n",
        "# Phase two\n",
        "# Remove the artificial variables\n",
        "def remove_artificial_variables(matrix, Ia):\n",
        "#  todo, matrix[:,[-1]] is used instead of matrix[:,-1] as matrix[:,-1] will return only a row and not a matrix\n",
        "  return np.hstack((matrix[0:,0:-(len(Ia)+1)], matrix[:,[-1]]))\n",
        "\n",
        "\n",
        "def replace_artificial_objective_function(table_in, C_in):\n",
        "  matrix = table_in[0:-1,:]\n",
        "  zero_values_row = np.full(matrix.shape[1]-C_in.shape[0], 0)\n",
        "  sum = np.hstack((C_in, zero_values_row))\n",
        "  appended=np.vstack((matrix,sum))\n",
        "  return appended;\n",
        "\n",
        "\n",
        "from numpy.typing import NDArray\n",
        "\n",
        "def is_base_vector(array:NDArray):\n",
        "    non_zero_count = np.count_nonzero(array)\n",
        "    return non_zero_count == 1\n",
        "\n",
        "# Expresses the objective function with the new basis, or in other words,\n",
        "# Transform the last row so that the zeros appear in the basis columns, base_vectors\n",
        "def convert_to_canonical_form(table_in):\n",
        "    for column in range(table_in.shape[1]):\n",
        "      if is_base_vector(table_in[0:-1,column]):\n",
        "        row = np.flatnonzero(table_in[0:-1,column])[0]\n",
        "        table_in[row, :] /= table_in[row][column]\n",
        "        table_in[-1, :] -= table_in[-1, column]*table_in[row][:]\n",
        "    return table_in\n",
        "\n",
        "approximation = remove_artificial_variables(x_approximations[-1], I_a)\n",
        "print (f\"Removed artificial variables from table: \\n {approximation} \\n\")\n",
        "approximation = replace_artificial_objective_function(approximation, C)\n",
        "print (f\"Reverting back the original objective function: \\n {approximation} \\n\")\n",
        "\n",
        "phase_two_table = convert_to_canonical_form(approximation)\n",
        "\n",
        "print (\"Phase two table\")\n",
        "print (phase_two_table)\n",
        "x_approximations.append(phase_two_table)\n",
        "basic_simplex_method(x_approximations, stop_conditions_simplex_method)\n",
        "\n",
        "print (f\"The optimal solution to the linear program is: {x_approximations[-1][:-1, -1]},\")\n",
        "print (f\"and the optimal cost is {-(x_approximations[-1][-1, -1])}\")"
      ]
    },
    {
      "cell_type": "markdown",
      "metadata": {
        "id": "yAyEUbRLvS47"
      },
      "source": [
        "### Solving linear program with `scipy.optimize.linprog`\n",
        "\n",
        "\n",
        "Python offers a convenient way for solving linear programming programs. The `scipy` library contains a module `scipy.optimize.linprog` that is designed for solving this type of problems.\n",
        "\n",
        "\n",
        "Let's demonstrate how to solve the previous linear program using the `linprog` library\n",
        "```\n",
        "#  Example 16.4, Introduction to Optimization, page 308\n",
        "#          Minimize :\n",
        "#                     2x_1 + 3x_2\n",
        "#        Subject to :\n",
        "#                     4x_1 + 2x_2 >= 12\n",
        "#                      x_1 + 4x_2 >= 6\n",
        "#                         x_1,x_2 >= 0\n",
        "\n",
        "```\n",
        "\n",
        "1. Initially transform the linear program so it is a minimizer.\n",
        "2. Create a list of all coefficients from the optimization function needs for example $2x_1 + 3x_2$ becomes `c=[-2,-3]`.\n",
        "3. Create matrix $A$, this are the parameters defined by the values before the $x$ variables under the subject part of the program, but not including the last row. In this case, the parameters will form the following matrix `A = [[-4, -2], [-1, -4]]`, it is important to point out that the sight before every parameter depends on the inequality operation or equality of the row.\n",
        "In case of:\n",
        "* \\>= the sign of the parameters changes in the entire row changes\n",
        "* <= the sign of the parameters  stays the same in the entire row.\n",
        "* == A new matrix A_eq is created that contains this row, and will be plugged in the function separately.\n",
        "* in case of < or >, manual work is required, as these rows are not excepted by the algorithm, by adding/removing a small number $e$ to the requeued row in the B-vector column.\n",
        "4. Constructing the vector B, this is the last column of the linear program. In the current linear program it is the vector B=[12,6]. It has the same number of elements or rows as the matrix A. Also it follows the same rules as a concerning the inequality or equality operator.\n",
        "\n",
        "\n",
        "\n"
      ]
    },
    {
      "cell_type": "code",
      "execution_count": null,
      "metadata": {
        "colab": {
          "base_uri": "https://localhost:8080/"
        },
        "id": "DBw6rjglGotH",
        "outputId": "76de6b35-cfd1-4eec-8c79-0fce4eadfcc8"
      },
      "outputs": [
        {
          "name": "stdout",
          "output_type": "stream",
          "text": [
            "Optimal value: -7.714285714285714\n",
            "Optimal x values: [2.57142857 0.85714286]\n"
          ]
        },
        {
          "name": "stderr",
          "output_type": "stream",
          "text": [
            "<ipython-input-15-ef953b4a85b3>:25: DeprecationWarning: `method='revised simplex'` is deprecated and will be removed in SciPy 1.11.0. Please use one of the HiGHS solvers (e.g. `method='highs'`) in new code.\n",
            "  res = linprog(c=c_obj, A_ub=A_ineq, b_ub=b_ineq, bounds=bounds, method='revised simplex')\n"
          ]
        }
      ],
      "source": [
        "import numpy as np\n",
        "from scipy.optimize import linprog\n",
        "\n",
        "#  Example 16.4, Introduction to Optimization, page 308\n",
        "#          minimize :\n",
        "#                     2x_1 + 3x_2\n",
        "#        subject to :\n",
        "#                     4x_1 + 2x_2 <= 12\n",
        "#                      x_1 + 4x_2 <= 6\n",
        "#                           x1,x2 >= 0\n",
        "\n",
        "# Objective function coefficients to minimize\n",
        "c_obj = np.array([-2, -3])\n",
        "\n",
        "# Negate for standard form (Ax <= b)\n",
        "A_ineq = np.array([[4, 2], [1, 4]])\n",
        "b_ineq = np.array([12, 6])\n",
        "\n",
        "# Bounds for variables x1 and x2 (non-negative)\n",
        "bounds = [(0, None), (0, None)]\n",
        "\n",
        "# Solve the linear programming problem\n",
        "# revised simplex uses the two phase simplex method descried above, but is deprecated\n",
        "# https://docs.scipy.org/doc/scipy-1.12.0/reference/optimize.linprog-revised_simplex.html#optimize-linprog-revised-simplex\n",
        "res = linprog(c=c_obj, A_ub=A_ineq, b_ub=b_ineq, bounds=bounds, method='revised simplex')\n",
        "\n",
        "# Print the results\n",
        "print(\"Optimal value:\", res.fun)\n",
        "print(\"Optimal x values:\", res.x)"
      ]
    },
    {
      "cell_type": "markdown",
      "metadata": {
        "id": "lNFigb_BgjbJ"
      },
      "source": [
        "## References\n",
        "\n",
        "### Python tutorial\n",
        "* Plot functions https://www.w3schools.com/python/matplotlib_pie_charts.asp\n",
        "* Animations https://matplotlib.org/stable/gallery/animation/index.html\n",
        "* Language references, https://www.w3schools.com/python/\n",
        "* Using `sympy` with symbols, https://www.turing.com/kb/derivative-functions-in-python\n",
        "### Linear Algebra\n",
        "\n",
        "* Dot-product, https://en.wikipedia.org/wiki/Dot_product#Definition\n",
        "* Cross product, https://en.wikipedia.org/wiki/Cross_product\n",
        "* Eigenvector and Eigenvalues, https://www.cs.ox.ac.uk/files/12921/book.pdf\n",
        "\n",
        "### Simplex\n",
        "* https://www.ms.uky.edu/~jack/2010-01-MA162/2010-02-25-MA162Lab.pdf\n",
        "* https://math.mit.edu/~goemans/18310S15/lpnotes310.pdf\n",
        "* https://web.mit.edu/15.053/www/AMP-Chapter-02.pdf\n",
        "* https://realpython.com/linear-programming-python/\n",
        "* https://www.uky.edu/~dsianita/300/online/LP.pdf\n",
        "* https://www.youtube.com/watch?v=E72DWgKP_1Y&t=652s\n"
      ]
    },
    {
      "cell_type": "markdown",
      "metadata": {
        "id": "CEUFf60z3rGL"
      },
      "source": [
        "## Libraries\n",
        "\n",
        "### Python\n",
        "* `SymPy`, https://www.sympy.org/en/index.html\n",
        "* `Scipy`, optimize https://docs.scipy.org/doc/scipy/reference/optimize.html\n",
        "* `matplotlib`, https://matplotlib.org\n",
        "* `numpy`, https://numpy.org/\n",
        "\n",
        "### .md\n",
        "* `Latex`, https://www.latex-project.org/\n",
        "\n",
        "\n",
        "\n"
      ]
    }
  ],
  "metadata": {
    "colab": {
      "include_colab_link": true,
      "provenance": [],
      "toc_visible": true
    },
    "kernelspec": {
      "display_name": "Python 3",
      "name": "python3"
    },
    "language_info": {
      "codemirror_mode": {
        "name": "ipython",
        "version": 3
      },
      "file_extension": ".py",
      "mimetype": "text/x-python",
      "name": "python",
      "nbconvert_exporter": "python",
      "pygments_lexer": "ipython3",
      "version": "3.12.4"
    }
  },
  "nbformat": 4,
  "nbformat_minor": 0
}
